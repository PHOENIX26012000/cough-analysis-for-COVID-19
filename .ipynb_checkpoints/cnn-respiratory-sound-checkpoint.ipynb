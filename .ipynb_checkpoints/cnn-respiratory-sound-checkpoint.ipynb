{
 "cells": [
  {
   "cell_type": "code",
   "execution_count": 12,
   "metadata": {
    "_cell_guid": "b1076dfc-b9ad-4769-8c92-a6c4dae69d19",
    "_uuid": "8f2839f25d086af736a60e9eeb907d3b93b6e0e5"
   },
   "outputs": [],
   "source": [
    "# This Python 3 environment comes with many helpful analytics libraries installed\n",
    "# It is defined by the kaggle/python Docker image: https://github.com/kaggle/docker-python\n",
    "# For example, here's several helpful packages to load\n",
    "\n",
    "import numpy as np # linear algebra\n",
    "import pandas as pd # data processing, CSV file I/O (e.g. pd.read_csv)\n",
    "\n",
    "# Input data files are available in the read-only \"../input/\" directory\n",
    "# For example, running this (by clicking run or pressing Shift+Enter) will list all files under the input directory\n",
    "\n",
    "import os\n",
    "import tensorflow as tf\n",
    "from tensorflow import keras\n",
    "from tensorflow.keras.models import Sequential\n",
    "from tensorflow.keras.layers import Conv1D, Conv2D, MaxPooling2D, MaxPooling1D, Dense, Flatten, Dropout\n",
    "import matplotlib.pyplot as plt\n",
    "import seaborn as sns\n",
    "\n",
    "\n",
    "# You can write up to 5GB to the current directory (/kaggle/working/) that gets preserved as output when you create a version using \"Save & Run All\" \n",
    "# You can also write temporary files to /kaggle/temp/, but they won't be saved outside of the current session"
   ]
  },
  {
   "cell_type": "code",
   "execution_count": 2,
   "metadata": {
    "_cell_guid": "79c7e3d0-c299-4dcb-8224-4455121ee9b0",
    "_uuid": "d629ff2d2480ee46fbb7e2d37f6b5fab8052498a"
   },
   "outputs": [
    {
     "data": {
      "text/html": [
       "<div>\n",
       "<style scoped>\n",
       "    .dataframe tbody tr th:only-of-type {\n",
       "        vertical-align: middle;\n",
       "    }\n",
       "\n",
       "    .dataframe tbody tr th {\n",
       "        vertical-align: top;\n",
       "    }\n",
       "\n",
       "    .dataframe thead th {\n",
       "        text-align: right;\n",
       "    }\n",
       "</style>\n",
       "<table border=\"1\" class=\"dataframe\">\n",
       "  <thead>\n",
       "    <tr style=\"text-align: right;\">\n",
       "      <th></th>\n",
       "      <th>Patient number</th>\n",
       "      <th>Diagnosis</th>\n",
       "    </tr>\n",
       "  </thead>\n",
       "  <tbody>\n",
       "    <tr>\n",
       "      <th>0</th>\n",
       "      <td>101</td>\n",
       "      <td>URTI</td>\n",
       "    </tr>\n",
       "    <tr>\n",
       "      <th>1</th>\n",
       "      <td>102</td>\n",
       "      <td>Healthy</td>\n",
       "    </tr>\n",
       "    <tr>\n",
       "      <th>2</th>\n",
       "      <td>103</td>\n",
       "      <td>Asthma</td>\n",
       "    </tr>\n",
       "    <tr>\n",
       "      <th>3</th>\n",
       "      <td>104</td>\n",
       "      <td>COPD</td>\n",
       "    </tr>\n",
       "  </tbody>\n",
       "</table>\n",
       "</div>"
      ],
      "text/plain": [
       "   Patient number Diagnosis\n",
       "0             101      URTI\n",
       "1             102   Healthy\n",
       "2             103    Asthma\n",
       "3             104      COPD"
      ]
     },
     "execution_count": 2,
     "metadata": {},
     "output_type": "execute_result"
    }
   ],
   "source": [
    "diagnosis_df = pd.read_csv('/home/antpc/cough_detection/dataset/Respiratory_Sound_Database/Respiratory_Sound_Database/patient_diagnosis.csv', names=['Patient number', 'Diagnosis'])\n",
    "diagnosis_df.head(4)"
   ]
  },
  {
   "cell_type": "code",
   "execution_count": 3,
   "metadata": {},
   "outputs": [
    {
     "data": {
      "text/plain": [
       "<matplotlib.axes._subplots.AxesSubplot at 0x7fdbc01a7438>"
      ]
     },
     "execution_count": 3,
     "metadata": {},
     "output_type": "execute_result"
    },
    {
     "data": {
      "image/png": "[encoded data removed]",
      "text/plain": [
       "<Figure size 720x360 with 1 Axes>"
      ]
     },
     "metadata": {
      "needs_background": "light"
     },
     "output_type": "display_data"
    }
   ],
   "source": [
    "plt.figure(figsize=(10,5))\n",
    "sns.countplot(diagnosis_df['Diagnosis'])"
   ]
  },
  {
   "cell_type": "code",
   "execution_count": null,
   "metadata": {},
   "outputs": [],
   "source": [
    "df_no_diagnosis = pd.read_csv('../input/respiratory-sound-database/demographic_info.txt', names = \n",
    "                 ['Patient number', 'Age', 'Sex' , 'Adult BMI (kg/m2)', 'Child Weight (kg)' , 'Child Height (cm)'],\n",
    "                 delimiter = ' ')\n",
    "df_no_diagnosis.head(5)"
   ]
  },
  {
   "cell_type": "code",
   "execution_count": null,
   "metadata": {},
   "outputs": [],
   "source": [
    "df =  df_no_diagnosis.join(diagnosis_df.set_index('Patient number'), on = 'Patient number', how = 'left')\n",
    "df.head(5)"
   ]
  },
  {
   "cell_type": "code",
   "execution_count": 4,
   "metadata": {},
   "outputs": [
    {
     "data": {
      "text/html": [
       "<div>\n",
       "<style scoped>\n",
       "    .dataframe tbody tr th:only-of-type {\n",
       "        vertical-align: middle;\n",
       "    }\n",
       "\n",
       "    .dataframe tbody tr th {\n",
       "        vertical-align: top;\n",
       "    }\n",
       "\n",
       "    .dataframe thead th {\n",
       "        text-align: right;\n",
       "    }\n",
       "</style>\n",
       "<table border=\"1\" class=\"dataframe\">\n",
       "  <thead>\n",
       "    <tr style=\"text-align: right;\">\n",
       "      <th></th>\n",
       "      <th>Patient number</th>\n",
       "      <th>Recording index</th>\n",
       "      <th>Chest location</th>\n",
       "      <th>Acquisition mode</th>\n",
       "      <th>Recording equipment</th>\n",
       "    </tr>\n",
       "  </thead>\n",
       "  <tbody>\n",
       "    <tr>\n",
       "      <th>0</th>\n",
       "      <td>176</td>\n",
       "      <td>2b3</td>\n",
       "      <td>Lr</td>\n",
       "      <td>mc</td>\n",
       "      <td>AKGC417L</td>\n",
       "    </tr>\n",
       "    <tr>\n",
       "      <th>0</th>\n",
       "      <td>130</td>\n",
       "      <td>1p3</td>\n",
       "      <td>Al</td>\n",
       "      <td>mc</td>\n",
       "      <td>AKGC417L</td>\n",
       "    </tr>\n",
       "    <tr>\n",
       "      <th>0</th>\n",
       "      <td>207</td>\n",
       "      <td>3b2</td>\n",
       "      <td>Tc</td>\n",
       "      <td>mc</td>\n",
       "      <td>AKGC417L</td>\n",
       "    </tr>\n",
       "    <tr>\n",
       "      <th>0</th>\n",
       "      <td>130</td>\n",
       "      <td>2p5</td>\n",
       "      <td>Pr</td>\n",
       "      <td>mc</td>\n",
       "      <td>AKGC417L</td>\n",
       "    </tr>\n",
       "    <tr>\n",
       "      <th>0</th>\n",
       "      <td>169</td>\n",
       "      <td>1b1</td>\n",
       "      <td>Lr</td>\n",
       "      <td>sc</td>\n",
       "      <td>Meditron</td>\n",
       "    </tr>\n",
       "  </tbody>\n",
       "</table>\n",
       "</div>"
      ],
      "text/plain": [
       "  Patient number Recording index Chest location Acquisition mode  \\\n",
       "0            176             2b3             Lr               mc   \n",
       "0            130             1p3             Al               mc   \n",
       "0            207             3b2             Tc               mc   \n",
       "0            130             2p5             Pr               mc   \n",
       "0            169             1b1             Lr               sc   \n",
       "\n",
       "  Recording equipment  \n",
       "0            AKGC417L  \n",
       "0            AKGC417L  \n",
       "0            AKGC417L  \n",
       "0            AKGC417L  \n",
       "0            Meditron  "
      ]
     },
     "execution_count": 4,
     "metadata": {},
     "output_type": "execute_result"
    }
   ],
   "source": [
    "root = '/home/antpc/cough_detection/dataset/Respiratory_Sound_Database/Respiratory_Sound_Database/audio_and_txt_files/'\n",
    "filenames = [s.split('.')[0] for s in os.listdir(path = root) if '.txt' in s]\n",
    "def Extract_Annotation_Data(file_name, root):\n",
    "    tokens = file_name.split('_')\n",
    "    recording_info = pd.DataFrame(data = [tokens], columns = ['Patient number', 'Recording index', 'Chest location','Acquisition mode','Recording equipment'])\n",
    "    recording_annotations = pd.read_csv(os.path.join(root, file_name + '.txt'), names = ['Start', 'End', 'Crackles', 'Wheezes'], delimiter= '\\t')\n",
    "    return (recording_info, recording_annotations)\n",
    "i_list = []\n",
    "rec_annotations = []\n",
    "rec_annotations_dict = {}\n",
    "for s in filenames:\n",
    "    (i,a) = Extract_Annotation_Data(s, root)\n",
    "    i_list.append(i)\n",
    "    rec_annotations.append(a)\n",
    "    rec_annotations_dict[s] = a\n",
    "recording_info = pd.concat(i_list, axis = 0)\n",
    "recording_info.head()"
   ]
  },
  {
   "cell_type": "code",
   "execution_count": 5,
   "metadata": {},
   "outputs": [],
   "source": [
    "class Diagnosis():\n",
    "    def __init__ (self, id, diagnosis, image_path):\n",
    "        self.id = id\n",
    "        self.diagnosis = diagnosis \n",
    "        self.image_path = image_path   "
   ]
  },
  {
   "cell_type": "code",
   "execution_count": 6,
   "metadata": {},
   "outputs": [],
   "source": [
    "def get_wav_files():\n",
    "    audio_path = '/home/antpc/cough_detection/dataset/Respiratory_Sound_Database/Respiratory_Sound_Database/audio_and_txt_files/'\n",
    "    files = [f for f in listdir(audio_path) if isfile(join(audio_path, f))]  #Gets all files in dir\n",
    "    wav_files = [f for f in files if f.endswith('.wav')]  # Gets wav files \n",
    "    wav_files = sorted(wav_files)\n",
    "    return wav_files, audio_path\n"
   ]
  },
  {
   "cell_type": "code",
   "execution_count": 7,
   "metadata": {},
   "outputs": [],
   "source": [
    "def diagnosis_data():\n",
    "    diagnosis = pd.read_csv('/home/antpc/cough_detection/dataset/Respiratory_Sound_Database/Respiratory_Sound_Database/patient_diagnosis.csv')\n",
    "  \n",
    "    wav_files, audio_path = get_wav_files()\n",
    "    diag_dict = { 101 : \"URTI\"}  \n",
    "    diagnosis_list = []\n",
    "  \n",
    "    for index , row in diagnosis.iterrows():\n",
    "        diag_dict[row[0]] = row[1]     \n",
    "\n",
    "    c = 0\n",
    "    for f in wav_files:\n",
    "        diagnosis_list.append(Diagnosis(c, diag_dict[int(f[:3])], audio_path+f))  \n",
    "        c+=1  \n",
    "\n",
    "    return diagnosis_list"
   ]
  },
  {
   "cell_type": "code",
   "execution_count": 8,
   "metadata": {},
   "outputs": [],
   "source": [
    "import librosa\n",
    "\n",
    "def audio_features(filename): \n",
    "    sound, sample_rate = librosa.load(filename)\n",
    "    stft = np.abs(librosa.stft(sound))  \n",
    " \n",
    "    mfccs = np.mean(librosa.feature.mfcc(y=sound, sr=sample_rate, n_mfcc=40),axis=1)\n",
    "    chroma = np.mean(librosa.feature.chroma_stft(S=stft, sr=sample_rate),axis=1)\n",
    "    mel = np.mean(librosa.feature.melspectrogram(sound, sr=sample_rate),axis=1)\n",
    "    contrast = np.mean(librosa.feature.spectral_contrast(S=stft, sr=sample_rate),axis=1)\n",
    "    tonnetz = np.mean(librosa.feature.tonnetz(y=librosa.effects.harmonic(sound), sr=sample_rate),axis=1)\n",
    "    \n",
    "    concat = np.concatenate((mfccs,chroma,mel,contrast,tonnetz))\n",
    "    return concat\n",
    "\n",
    "def data_points():\n",
    "    labels = []\n",
    "    images = []\n",
    "\n",
    "    to_hot_one = {\"COPD\":0, \"Healthy\":1, \"URTI\":2, \"Bronchiectasis\":3, \"Pneumonia\":4, \"Bronchiolitis\":5, \"Asthma\":6, \"LRTI\":7}\n",
    "\n",
    "    count = 0\n",
    "    for f in diagnosis_data():\n",
    "        #print(count)\n",
    "        labels.append(to_hot_one[f.diagnosis]) \n",
    "        images.append(audio_features(f.image_path))\n",
    "        #count+=1\n",
    "\n",
    "    return np.array(labels), np.array(images)"
   ]
  },
  {
   "cell_type": "code",
   "execution_count": 9,
   "metadata": {},
   "outputs": [],
   "source": [
    "from sklearn.model_selection import train_test_split\n",
    "\n",
    "def preprocessing(labels, images):    \n",
    "\n",
    "  # Remove Asthma and LRTI\n",
    "    images = np.delete(images, np.where((labels == 7) | (labels == 6))[0], axis=0) \n",
    "    labels = np.delete(labels, np.where((labels == 7) | (labels == 6))[0], axis=0)      \n",
    "\n",
    "  # Split data\n",
    "    X_train, X_test, y_train, y_test = train_test_split(images, labels, test_size=0.2, random_state=10)\n",
    "\n",
    "  # Hot one encode the labels\n",
    "    y_train = to_categorical(y_train)\n",
    "    y_test = to_categorical(y_test)  \n",
    "\n",
    "  # Format new data\n",
    "    y_train = np.reshape(y_train, (y_train.shape[0], 6))\n",
    "    X_train = np.reshape(X_train, (X_train.shape[0], X_train.shape[1], 1))\n",
    "    y_test = np.reshape(y_test, (y_test.shape[0], 6))\n",
    "    X_test = np.reshape(X_test, (X_test.shape[0], X_train.shape[1],  1))\n",
    "\n",
    "    return X_train, X_test, y_train, y_test"
   ]
  },
  {
   "cell_type": "code",
   "execution_count": 14,
   "metadata": {},
   "outputs": [
    {
     "name": "stderr",
     "output_type": "stream",
     "text": [
      "/home/antpc/.local/lib/python3.6/site-packages/librosa/core/pitch.py:146: UserWarning: Trying to estimate tuning from empty frequency set.\n",
      "  warnings.warn('Trying to estimate tuning from empty frequency set.')\n"
     ]
    }
   ],
   "source": [
    "from os import listdir\n",
    "from os.path import isfile, join\n",
    "from tensorflow.keras.utils import plot_model,to_categorical\n",
    "\n",
    "labels, images = data_points()\n",
    "X_train, X_test, y_train, y_test = preprocessing(labels, images)"
   ]
  },
  {
   "cell_type": "markdown",
   "metadata": {},
   "source": [
    "# CNN model"
   ]
  },
  {
   "cell_type": "code",
   "execution_count": 20,
   "metadata": {},
   "outputs": [
    {
     "name": "stdout",
     "output_type": "stream",
     "text": [
      "Train on 733 samples, validate on 184 samples\n",
      "Epoch 1/100\n",
      "733/733 [==============================] - 1s 1ms/sample - loss: 0.9043 - acc: 0.8390 - val_loss: 0.4043 - val_acc: 0.8859\n",
      "Epoch 2/100\n",
      "733/733 [==============================] - 1s 717us/sample - loss: 0.6345 - acc: 0.8390 - val_loss: 0.3511 - val_acc: 0.8859\n",
      "Epoch 3/100\n",
      "733/733 [==============================] - 1s 725us/sample - loss: 0.5802 - acc: 0.8390 - val_loss: 0.3362 - val_acc: 0.8859\n",
      "Epoch 4/100\n",
      "733/733 [==============================] - 1s 732us/sample - loss: 0.5726 - acc: 0.8513 - val_loss: 0.3327 - val_acc: 0.8859\n",
      "Epoch 5/100\n",
      "733/733 [==============================] - 1s 721us/sample - loss: 0.5116 - acc: 0.8513 - val_loss: 0.4188 - val_acc: 0.8533\n",
      "Epoch 6/100\n",
      "733/733 [==============================] - 1s 720us/sample - loss: 0.4499 - acc: 0.8581 - val_loss: 0.2891 - val_acc: 0.8859\n",
      "Epoch 7/100\n",
      "733/733 [==============================] - 1s 725us/sample - loss: 0.4568 - acc: 0.8527 - val_loss: 0.3104 - val_acc: 0.8750\n",
      "Epoch 8/100\n",
      "733/733 [==============================] - 1s 732us/sample - loss: 0.3948 - acc: 0.8690 - val_loss: 0.2364 - val_acc: 0.9076\n",
      "Epoch 9/100\n",
      "733/733 [==============================] - 1s 721us/sample - loss: 0.4446 - acc: 0.8759 - val_loss: 0.2544 - val_acc: 0.9022\n",
      "Epoch 10/100\n",
      "733/733 [==============================] - 1s 730us/sample - loss: 0.3729 - acc: 0.8813 - val_loss: 0.2405 - val_acc: 0.9239\n",
      "Epoch 11/100\n",
      "733/733 [==============================] - 1s 727us/sample - loss: 0.4182 - acc: 0.8718 - val_loss: 0.2445 - val_acc: 0.9130\n",
      "Epoch 12/100\n",
      "733/733 [==============================] - 1s 727us/sample - loss: 0.3209 - acc: 0.8854 - val_loss: 0.2512 - val_acc: 0.9022\n",
      "Epoch 13/100\n",
      "733/733 [==============================] - 1s 729us/sample - loss: 0.3584 - acc: 0.8868 - val_loss: 0.2677 - val_acc: 0.8913\n",
      "Epoch 14/100\n",
      "733/733 [==============================] - 1s 731us/sample - loss: 0.2870 - acc: 0.8950 - val_loss: 0.2619 - val_acc: 0.9022\n",
      "Epoch 15/100\n",
      "733/733 [==============================] - 1s 717us/sample - loss: 0.3195 - acc: 0.8922 - val_loss: 0.2166 - val_acc: 0.9130\n",
      "Epoch 16/100\n",
      "733/733 [==============================] - 1s 720us/sample - loss: 0.3210 - acc: 0.8963 - val_loss: 0.2228 - val_acc: 0.9130\n",
      "Epoch 17/100\n",
      "733/733 [==============================] - 1s 734us/sample - loss: 0.3149 - acc: 0.9031 - val_loss: 0.2295 - val_acc: 0.9076\n",
      "Epoch 18/100\n",
      "733/733 [==============================] - 1s 724us/sample - loss: 0.2992 - acc: 0.8977 - val_loss: 0.2134 - val_acc: 0.9185\n",
      "Epoch 19/100\n",
      "733/733 [==============================] - 1s 714us/sample - loss: 0.2782 - acc: 0.8950 - val_loss: 0.2046 - val_acc: 0.9130\n",
      "Epoch 20/100\n",
      "733/733 [==============================] - 1s 754us/sample - loss: 0.2521 - acc: 0.8990 - val_loss: 0.2080 - val_acc: 0.9185\n",
      "Epoch 21/100\n",
      "733/733 [==============================] - 1s 738us/sample - loss: 0.2562 - acc: 0.9086 - val_loss: 0.2014 - val_acc: 0.9130\n",
      "Epoch 22/100\n",
      "733/733 [==============================] - 1s 724us/sample - loss: 0.2714 - acc: 0.9086 - val_loss: 0.1854 - val_acc: 0.9293\n",
      "Epoch 23/100\n",
      "733/733 [==============================] - 1s 729us/sample - loss: 0.2358 - acc: 0.9127 - val_loss: 0.2005 - val_acc: 0.9185\n",
      "Epoch 24/100\n",
      "733/733 [==============================] - 1s 724us/sample - loss: 0.2330 - acc: 0.9181 - val_loss: 0.1982 - val_acc: 0.9130\n",
      "Epoch 25/100\n",
      "733/733 [==============================] - 1s 733us/sample - loss: 0.2302 - acc: 0.9181 - val_loss: 0.1764 - val_acc: 0.9293\n",
      "Epoch 26/100\n",
      "733/733 [==============================] - 1s 742us/sample - loss: 0.2089 - acc: 0.9277 - val_loss: 0.2181 - val_acc: 0.9130\n",
      "Epoch 27/100\n",
      "733/733 [==============================] - 1s 758us/sample - loss: 0.2362 - acc: 0.9263 - val_loss: 0.2196 - val_acc: 0.9076\n",
      "Epoch 28/100\n",
      "733/733 [==============================] - 1s 738us/sample - loss: 0.2136 - acc: 0.9154 - val_loss: 0.1730 - val_acc: 0.9348\n",
      "Epoch 29/100\n",
      "733/733 [==============================] - 1s 720us/sample - loss: 0.1786 - acc: 0.9318 - val_loss: 0.1859 - val_acc: 0.9239\n",
      "Epoch 30/100\n",
      "733/733 [==============================] - 1s 720us/sample - loss: 0.1952 - acc: 0.9236 - val_loss: 0.1830 - val_acc: 0.9348\n",
      "Epoch 31/100\n",
      "733/733 [==============================] - 1s 733us/sample - loss: 0.2273 - acc: 0.9304 - val_loss: 0.1832 - val_acc: 0.9293\n",
      "Epoch 32/100\n",
      "733/733 [==============================] - 1s 725us/sample - loss: 0.1849 - acc: 0.9277 - val_loss: 0.2166 - val_acc: 0.9022\n",
      "Epoch 33/100\n",
      "733/733 [==============================] - 1s 722us/sample - loss: 0.1809 - acc: 0.9291 - val_loss: 0.1754 - val_acc: 0.9239\n",
      "Epoch 34/100\n",
      "733/733 [==============================] - 1s 778us/sample - loss: 0.1614 - acc: 0.9441 - val_loss: 0.1734 - val_acc: 0.9293\n",
      "Epoch 35/100\n",
      "733/733 [==============================] - 1s 915us/sample - loss: 0.1484 - acc: 0.9400 - val_loss: 0.1991 - val_acc: 0.9130\n",
      "Epoch 36/100\n",
      "733/733 [==============================] - 1s 736us/sample - loss: 0.1730 - acc: 0.9400 - val_loss: 0.1809 - val_acc: 0.9348\n",
      "Epoch 37/100\n",
      "733/733 [==============================] - 1s 719us/sample - loss: 0.1829 - acc: 0.9386 - val_loss: 0.1846 - val_acc: 0.9130\n",
      "Epoch 38/100\n",
      "733/733 [==============================] - 1s 716us/sample - loss: 0.1516 - acc: 0.9468 - val_loss: 0.1809 - val_acc: 0.9293\n",
      "Epoch 39/100\n",
      "733/733 [==============================] - 1s 733us/sample - loss: 0.1570 - acc: 0.9427 - val_loss: 0.1866 - val_acc: 0.9185\n",
      "Epoch 40/100\n",
      "733/733 [==============================] - 1s 736us/sample - loss: 0.1502 - acc: 0.9386 - val_loss: 0.1723 - val_acc: 0.9402\n",
      "Epoch 41/100\n",
      "733/733 [==============================] - 1s 710us/sample - loss: 0.1346 - acc: 0.9413 - val_loss: 0.2171 - val_acc: 0.9130\n",
      "Epoch 42/100\n",
      "733/733 [==============================] - 1s 718us/sample - loss: 0.1444 - acc: 0.9482 - val_loss: 0.1972 - val_acc: 0.9185\n",
      "Epoch 43/100\n",
      "733/733 [==============================] - 1s 725us/sample - loss: 0.1481 - acc: 0.9482 - val_loss: 0.1699 - val_acc: 0.9239\n",
      "Epoch 44/100\n",
      "733/733 [==============================] - 1s 714us/sample - loss: 0.1270 - acc: 0.9454 - val_loss: 0.1627 - val_acc: 0.9348\n",
      "Epoch 45/100\n",
      "733/733 [==============================] - 1s 731us/sample - loss: 0.1288 - acc: 0.9536 - val_loss: 0.1633 - val_acc: 0.9457\n",
      "Epoch 46/100\n",
      "733/733 [==============================] - 1s 723us/sample - loss: 0.1108 - acc: 0.9618 - val_loss: 0.1993 - val_acc: 0.9348\n",
      "Epoch 47/100\n",
      "733/733 [==============================] - 1s 720us/sample - loss: 0.1194 - acc: 0.9523 - val_loss: 0.1431 - val_acc: 0.9511\n",
      "Epoch 48/100\n",
      "733/733 [==============================] - 1s 732us/sample - loss: 0.1114 - acc: 0.9536 - val_loss: 0.1835 - val_acc: 0.9022\n",
      "Epoch 49/100\n",
      "733/733 [==============================] - 1s 756us/sample - loss: 0.1238 - acc: 0.9604 - val_loss: 0.1556 - val_acc: 0.9457\n",
      "Epoch 50/100\n",
      "733/733 [==============================] - 1s 739us/sample - loss: 0.1455 - acc: 0.9550 - val_loss: 0.1679 - val_acc: 0.9293\n",
      "Epoch 51/100\n",
      "733/733 [==============================] - 1s 736us/sample - loss: 0.1207 - acc: 0.9577 - val_loss: 0.1523 - val_acc: 0.9402\n",
      "Epoch 52/100\n",
      "733/733 [==============================] - 1s 738us/sample - loss: 0.1108 - acc: 0.9604 - val_loss: 0.1745 - val_acc: 0.9457\n",
      "Epoch 53/100\n",
      "733/733 [==============================] - 1s 722us/sample - loss: 0.0913 - acc: 0.9700 - val_loss: 0.2059 - val_acc: 0.9130\n",
      "Epoch 54/100\n",
      "733/733 [==============================] - 1s 824us/sample - loss: 0.1051 - acc: 0.9604 - val_loss: 0.1463 - val_acc: 0.9457\n",
      "Epoch 55/100\n",
      "733/733 [==============================] - 1s 820us/sample - loss: 0.1245 - acc: 0.9563 - val_loss: 0.1951 - val_acc: 0.9185\n",
      "Epoch 56/100\n",
      "733/733 [==============================] - 1s 718us/sample - loss: 0.1067 - acc: 0.9591 - val_loss: 0.1782 - val_acc: 0.9402\n",
      "Epoch 57/100\n",
      "733/733 [==============================] - 1s 719us/sample - loss: 0.0968 - acc: 0.9659 - val_loss: 0.2291 - val_acc: 0.9185\n",
      "Epoch 58/100\n",
      "733/733 [==============================] - 1s 727us/sample - loss: 0.0947 - acc: 0.9645 - val_loss: 0.1844 - val_acc: 0.9293\n",
      "Epoch 59/100\n",
      "733/733 [==============================] - 1s 776us/sample - loss: 0.0822 - acc: 0.9727 - val_loss: 0.1649 - val_acc: 0.9402\n",
      "Epoch 60/100\n"
     ]
    },
    {
     "name": "stdout",
     "output_type": "stream",
     "text": [
      "733/733 [==============================] - 1s 739us/sample - loss: 0.0877 - acc: 0.9659 - val_loss: 0.1814 - val_acc: 0.9348\n",
      "Epoch 61/100\n",
      "733/733 [==============================] - 1s 723us/sample - loss: 0.0625 - acc: 0.9809 - val_loss: 0.1842 - val_acc: 0.9457\n",
      "Epoch 62/100\n",
      "733/733 [==============================] - 1s 725us/sample - loss: 0.0792 - acc: 0.9673 - val_loss: 0.1780 - val_acc: 0.9402\n",
      "Epoch 63/100\n",
      "733/733 [==============================] - 1s 734us/sample - loss: 0.0928 - acc: 0.9686 - val_loss: 0.1905 - val_acc: 0.9348\n",
      "Epoch 64/100\n",
      "733/733 [==============================] - 1s 717us/sample - loss: 0.0661 - acc: 0.9782 - val_loss: 0.1857 - val_acc: 0.9348\n",
      "Epoch 65/100\n",
      "733/733 [==============================] - 1s 708us/sample - loss: 0.1124 - acc: 0.9686 - val_loss: 0.1753 - val_acc: 0.9293\n",
      "Epoch 66/100\n",
      "733/733 [==============================] - 1s 735us/sample - loss: 0.0962 - acc: 0.9686 - val_loss: 0.2216 - val_acc: 0.9076\n",
      "Epoch 67/100\n",
      "733/733 [==============================] - 1s 732us/sample - loss: 0.0760 - acc: 0.9795 - val_loss: 0.1730 - val_acc: 0.9457\n",
      "Epoch 68/100\n",
      "733/733 [==============================] - 1s 717us/sample - loss: 0.0854 - acc: 0.9700 - val_loss: 0.1707 - val_acc: 0.9457\n",
      "Epoch 69/100\n",
      "733/733 [==============================] - 1s 714us/sample - loss: 0.0753 - acc: 0.9714 - val_loss: 0.1749 - val_acc: 0.9457\n",
      "Epoch 70/100\n",
      "733/733 [==============================] - 1s 913us/sample - loss: 0.0611 - acc: 0.9795 - val_loss: 0.1822 - val_acc: 0.9293\n",
      "Epoch 71/100\n",
      "733/733 [==============================] - 1s 740us/sample - loss: 0.0548 - acc: 0.9782 - val_loss: 0.1714 - val_acc: 0.9402\n",
      "Epoch 72/100\n",
      "733/733 [==============================] - 1s 718us/sample - loss: 0.0547 - acc: 0.9823 - val_loss: 0.1608 - val_acc: 0.9457\n",
      "Epoch 73/100\n",
      "733/733 [==============================] - 1s 725us/sample - loss: 0.0528 - acc: 0.9809 - val_loss: 0.1808 - val_acc: 0.9402\n",
      "Epoch 74/100\n",
      "733/733 [==============================] - 1s 730us/sample - loss: 0.0557 - acc: 0.9823 - val_loss: 0.1783 - val_acc: 0.9457\n",
      "Epoch 75/100\n",
      "733/733 [==============================] - 1s 726us/sample - loss: 0.0539 - acc: 0.9809 - val_loss: 0.1855 - val_acc: 0.9402\n",
      "Epoch 76/100\n",
      "733/733 [==============================] - 1s 734us/sample - loss: 0.0661 - acc: 0.9768 - val_loss: 0.1661 - val_acc: 0.9511\n",
      "Epoch 77/100\n",
      "733/733 [==============================] - 1s 725us/sample - loss: 0.0557 - acc: 0.9754 - val_loss: 0.1724 - val_acc: 0.9457\n",
      "Epoch 78/100\n",
      "733/733 [==============================] - 1s 742us/sample - loss: 0.0703 - acc: 0.9768 - val_loss: 0.1664 - val_acc: 0.9457\n",
      "Epoch 79/100\n",
      "733/733 [==============================] - 1s 750us/sample - loss: 0.0788 - acc: 0.9727 - val_loss: 0.1603 - val_acc: 0.9511\n",
      "Epoch 80/100\n",
      "733/733 [==============================] - 1s 726us/sample - loss: 0.0456 - acc: 0.9823 - val_loss: 0.1663 - val_acc: 0.9511\n",
      "Epoch 81/100\n",
      "733/733 [==============================] - 1s 728us/sample - loss: 0.0502 - acc: 0.9823 - val_loss: 0.1662 - val_acc: 0.9511\n",
      "Epoch 82/100\n",
      "733/733 [==============================] - 1s 725us/sample - loss: 0.0444 - acc: 0.9877 - val_loss: 0.1557 - val_acc: 0.9511\n",
      "Epoch 83/100\n",
      "733/733 [==============================] - 1s 727us/sample - loss: 0.0393 - acc: 0.9891 - val_loss: 0.1763 - val_acc: 0.9511\n",
      "Epoch 84/100\n",
      "733/733 [==============================] - 1s 744us/sample - loss: 0.0381 - acc: 0.9864 - val_loss: 0.1807 - val_acc: 0.9565\n",
      "Epoch 85/100\n",
      "733/733 [==============================] - 1s 744us/sample - loss: 0.0467 - acc: 0.9850 - val_loss: 0.1805 - val_acc: 0.9511\n",
      "Epoch 86/100\n",
      "733/733 [==============================] - 1s 730us/sample - loss: 0.0522 - acc: 0.9782 - val_loss: 0.2021 - val_acc: 0.9402\n",
      "Epoch 87/100\n",
      "733/733 [==============================] - 1s 753us/sample - loss: 0.0393 - acc: 0.9864 - val_loss: 0.1942 - val_acc: 0.9402\n",
      "Epoch 88/100\n",
      "733/733 [==============================] - 1s 734us/sample - loss: 0.0327 - acc: 0.9905 - val_loss: 0.1764 - val_acc: 0.9565\n",
      "Epoch 89/100\n",
      "733/733 [==============================] - 1s 754us/sample - loss: 0.0286 - acc: 0.9877 - val_loss: 0.1897 - val_acc: 0.9402\n",
      "Epoch 90/100\n",
      "733/733 [==============================] - 1s 738us/sample - loss: 0.0578 - acc: 0.9741 - val_loss: 0.1792 - val_acc: 0.9511\n",
      "Epoch 91/100\n",
      "733/733 [==============================] - 1s 741us/sample - loss: 0.0641 - acc: 0.9850 - val_loss: 0.1691 - val_acc: 0.9511\n",
      "Epoch 92/100\n",
      "733/733 [==============================] - 1s 741us/sample - loss: 0.0343 - acc: 0.9891 - val_loss: 0.1727 - val_acc: 0.9457\n",
      "Epoch 93/100\n",
      "733/733 [==============================] - 1s 734us/sample - loss: 0.0249 - acc: 0.9932 - val_loss: 0.1792 - val_acc: 0.9402\n",
      "Epoch 94/100\n",
      "733/733 [==============================] - 1s 738us/sample - loss: 0.0283 - acc: 0.9864 - val_loss: 0.2400 - val_acc: 0.9402\n",
      "Epoch 95/100\n",
      "733/733 [==============================] - 1s 735us/sample - loss: 0.0343 - acc: 0.9918 - val_loss: 0.2119 - val_acc: 0.9457\n",
      "Epoch 96/100\n",
      "733/733 [==============================] - 1s 741us/sample - loss: 0.0285 - acc: 0.9918 - val_loss: 0.2191 - val_acc: 0.9457\n",
      "Epoch 97/100\n",
      "733/733 [==============================] - 1s 736us/sample - loss: 0.0322 - acc: 0.9891 - val_loss: 0.2023 - val_acc: 0.9402\n",
      "Epoch 98/100\n",
      "733/733 [==============================] - 1s 759us/sample - loss: 0.0470 - acc: 0.9864 - val_loss: 0.1990 - val_acc: 0.9511\n",
      "Epoch 99/100\n",
      "733/733 [==============================] - 1s 738us/sample - loss: 0.0285 - acc: 0.9932 - val_loss: 0.1952 - val_acc: 0.9511\n",
      "Epoch 100/100\n",
      "733/733 [==============================] - 1s 731us/sample - loss: 0.0200 - acc: 0.9945 - val_loss: 0.1867 - val_acc: 0.9457\n"
     ]
    }
   ],
   "source": [
    "from tensorflow.keras.optimizers import Adam\n",
    "model = Sequential()\n",
    "model.add(Conv1D(64, kernel_size=5, activation='relu', input_shape=(193, 1)))\n",
    "\n",
    "model.add(Conv1D(128, kernel_size=5, activation='relu'))\n",
    "model.add(MaxPooling1D(2)) \n",
    "\n",
    "model.add(Conv1D(256, kernel_size=5, activation='relu'))\n",
    "model.add(MaxPooling1D(2)) \n",
    "\n",
    "model.add(Dropout(0.5))\n",
    "model.add(Flatten())\n",
    "\n",
    "model.add(Dense(512, activation='relu'))   \n",
    "model.add(Dense(6, activation='softmax'))\n",
    "\n",
    "opt = Adam(lr=0.00005, beta_1=0.9, beta_2=0.999)\n",
    "model.compile(loss='categorical_crossentropy', optimizer=opt, metrics=['accuracy'])\n",
    "history = model.fit(X_train, y_train, validation_data=(X_test, y_test), epochs=100, batch_size=4, verbose=1)"
   ]
  },
  {
   "cell_type": "code",
   "execution_count": 21,
   "metadata": {},
   "outputs": [
    {
     "data": {
      "image/png": "[encoded data removed]",
      "text/plain": [
       "<Figure size 720x432 with 1 Axes>"
      ]
     },
     "metadata": {
      "needs_background": "light"
     },
     "output_type": "display_data"
    },
    {
     "data": {
      "image/png": "[encoded data removed]",
      "text/plain": [
       "<Figure size 720x432 with 1 Axes>"
      ]
     },
     "metadata": {
      "needs_background": "light"
     },
     "output_type": "display_data"
    }
   ],
   "source": [
    "def visualize_training(history, lw = 3):\n",
    "    plt.figure(figsize=(10,6))\n",
    "    plt.plot(history.history['acc'], label = 'training', marker = '*', linewidth = lw)\n",
    "    plt.plot(history.history['val_acc'], label = 'validation', marker = 'o', linewidth = lw)\n",
    "    plt.title('Training Accuracy vs Validation Accuracy')\n",
    "    plt.xlabel('Epochs')\n",
    "    plt.ylabel('Accuracy')\n",
    "    plt.legend(fontsize = 'x-large')\n",
    "    plt.show()\n",
    "\n",
    "    plt.figure(figsize=(10,6))\n",
    "    plt.plot(history.history['loss'], label = 'training', marker = '*', linewidth = lw)\n",
    "    plt.plot(history.history['val_loss'], label = 'validation', marker = 'o', linewidth = lw)\n",
    "    plt.title('Training Loss vs Validation Loss')\n",
    "    plt.xlabel('Epochs')\n",
    "    plt.ylabel('Loss')\n",
    "    plt.legend(fontsize = 'x-large')\n",
    "    plt.show()\n",
    "visualize_training(history)"
   ]
  },
  {
   "cell_type": "code",
   "execution_count": 13,
   "metadata": {
    "scrolled": true
   },
   "outputs": [
    {
     "name": "stdout",
     "output_type": "stream",
     "text": [
      "1.14.0\n"
     ]
    }
   ],
   "source": [
    "print(tf.__version__)"
   ]
  },
  {
   "cell_type": "code",
   "execution_count": 23,
   "metadata": {},
   "outputs": [
    {
     "ename": "AttributeError",
     "evalue": "type object 'TFLiteConverter' has no attribute 'from_keras_model'",
     "output_type": "error",
     "traceback": [
      "\u001b[0;31m---------------------------------------------------------------------------\u001b[0m",
      "\u001b[0;31mAttributeError\u001b[0m                            Traceback (most recent call last)",
      "\u001b[0;32m<ipython-input-23-0c25c43cdfaf>\u001b[0m in \u001b[0;36m<module>\u001b[0;34m\u001b[0m\n\u001b[1;32m      1\u001b[0m \u001b[0mmodel\u001b[0m\u001b[0;34m.\u001b[0m\u001b[0msave\u001b[0m\u001b[0;34m(\u001b[0m\u001b[0;34m'saved_model_respiratory'\u001b[0m\u001b[0;34m)\u001b[0m\u001b[0;34m\u001b[0m\u001b[0;34m\u001b[0m\u001b[0m\n\u001b[1;32m      2\u001b[0m \u001b[0;31m# Convert the model.\u001b[0m\u001b[0;34m\u001b[0m\u001b[0;34m\u001b[0m\u001b[0;34m\u001b[0m\u001b[0m\n\u001b[0;32m----> 3\u001b[0;31m \u001b[0mconverter\u001b[0m \u001b[0;34m=\u001b[0m \u001b[0mtf\u001b[0m\u001b[0;34m.\u001b[0m\u001b[0mlite\u001b[0m\u001b[0;34m.\u001b[0m\u001b[0mTFLiteConverter\u001b[0m\u001b[0;34m.\u001b[0m\u001b[0mfrom_keras_model\u001b[0m\u001b[0;34m(\u001b[0m\u001b[0mmodel\u001b[0m\u001b[0;34m)\u001b[0m\u001b[0;34m\u001b[0m\u001b[0;34m\u001b[0m\u001b[0m\n\u001b[0m\u001b[1;32m      4\u001b[0m \u001b[0mtflite_model\u001b[0m \u001b[0;34m=\u001b[0m \u001b[0mconverter\u001b[0m\u001b[0;34m.\u001b[0m\u001b[0mconvert\u001b[0m\u001b[0;34m(\u001b[0m\u001b[0;34m)\u001b[0m\u001b[0;34m\u001b[0m\u001b[0;34m\u001b[0m\u001b[0m\n\u001b[1;32m      5\u001b[0m \u001b[0mprint\u001b[0m\u001b[0;34m(\u001b[0m\u001b[0mtf\u001b[0m\u001b[0;34m.\u001b[0m\u001b[0m__version__\u001b[0m\u001b[0;34m)\u001b[0m\u001b[0;34m\u001b[0m\u001b[0;34m\u001b[0m\u001b[0m\n",
      "\u001b[0;31mAttributeError\u001b[0m: type object 'TFLiteConverter' has no attribute 'from_keras_model'"
     ]
    }
   ],
   "source": [
    "model.save('saved_model_respiratory')\n",
    "# Convert the model.\n",
    "converter = tf.lite.TFLiteConverter.from_keras_model(model)\n",
    "tflite_model = converter.convert()\n",
    "\n",
    "# Save the TF Lite model.\n",
    "with tf.io.gfile.GFile('model_resp.tflite', 'wb') as f:\n",
    "  f.write(tflite_model)"
   ]
  },
  {
   "cell_type": "code",
   "execution_count": null,
   "metadata": {},
   "outputs": [],
   "source": [
    "#optimization\n",
    "converter.optimizations = [tf.lite.Optimize.DEFAULT]"
   ]
  },
  {
   "cell_type": "markdown",
   "metadata": {},
   "source": [
    "# Model Confusion Matrix"
   ]
  },
  {
   "cell_type": "code",
   "execution_count": null,
   "metadata": {},
   "outputs": [],
   "source": [
    "from sklearn.metrics import roc_auc_score, classification_report, confusion_matrix\n",
    "matrix_index = [\"COPD\", \"Healthy\", \"URTI\", \"Bronchiectasis\", \"Pneumoina\", \"Bronchiolitis\"]\n",
    "\n",
    "preds = model.predict(X_test)\n",
    "classpreds = np.argmax(preds, axis=1) # predicted classes \n",
    "y_testclass = np.argmax(y_test, axis=1) # true classes\n",
    "\n",
    "cm = confusion_matrix(y_testclass, classpreds)\n",
    "print(classification_report(y_testclass, classpreds, target_names=matrix_index))\n",
    "\n",
    "# Get percentage value for each element of the matrix\n",
    "cm_sum = np.sum(cm, axis=1, keepdims=True)\n",
    "cm_perc = cm / cm_sum.astype(float) * 100\n",
    "annot = np.empty_like(cm).astype(str)\n",
    "nrows, ncols = cm.shape\n",
    "for i in range(nrows):\n",
    "    for j in range(ncols):\n",
    "        c = cm[i, j]\n",
    "        p = cm_perc[i, j]\n",
    "        if i == j:\n",
    "            s = cm_sum[i]\n",
    "            annot[i, j] = '%.1f%%\\n%d/%d' % (p, c, s)\n",
    "        elif c == 0:\n",
    "            annot[i, j] = ''\n",
    "        else:\n",
    "            annot[i, j] = '%.1f%%\\n%d' % (p, c)\n",
    "\n",
    "\n",
    "# Display confusion matrix \n",
    "df_cm = pd.DataFrame(cm, index = matrix_index, columns = matrix_index)\n",
    "df_cm.index.name = 'Actual'\n",
    "df_cm.columns.name = 'Predicted'\n",
    "fig, ax = plt.subplots(figsize=(10,7))\n",
    "sn.heatmap(df_cm, annot=annot, fmt='')"
   ]
  },
  {
   "cell_type": "code",
   "execution_count": null,
   "metadata": {},
   "outputs": [],
   "source": [
    "rac = roc_auc_score(y_testclass, classpreds)\n",
    "print('The ROC-AUC score obtained : {}'.format(rac))"
   ]
  },
  {
   "cell_type": "code",
   "execution_count": null,
   "metadata": {},
   "outputs": [],
   "source": []
  }
 ],
 "metadata": {
  "kernelspec": {
   "display_name": "Python 3",
   "language": "python",
   "name": "python3"
  },
  "language_info": {
   "codemirror_mode": {
    "name": "ipython",
    "version": 3
   },
   "file_extension": ".py",
   "mimetype": "text/x-python",
   "name": "python",
   "nbconvert_exporter": "python",
   "pygments_lexer": "ipython3",
   "version": "3.6.9"
  }
 },
 "nbformat": 4,
 "nbformat_minor": 4
}
