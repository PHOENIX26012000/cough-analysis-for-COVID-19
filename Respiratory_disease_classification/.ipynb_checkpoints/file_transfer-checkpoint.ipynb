{
 "cells": [
  {
   "cell_type": "code",
   "execution_count": 123,
   "metadata": {},
   "outputs": [
    {
     "name": "stdout",
     "output_type": "stream",
     "text": [
      "dict_keys(['URTI', 'Healthy', 'Asthma', 'COPD', 'LRTI', 'Bronchiectasis', 'Pneumonia', 'Bronchiolitis'])\n"
     ]
    }
   ],
   "source": [
    "import csv\n",
    "\n",
    "result = {}\n",
    "\n",
    "with open('/home/antpc/cough_detection/dataset/Respiratory_Sound_Database/Respiratory_Sound_Database/patient_diagnosis.csv',\"rt\") as csvfile:\n",
    "    csvreader = csv.reader(csvfile)\n",
    "    for row in csvreader:\n",
    "        if row[1] in result:\n",
    "            result[row[1]].append(row[0])\n",
    "        else:\n",
    "            result[row[1]] = [row[0]]\n",
    "print(result.keys())"
   ]
  },
  {
   "cell_type": "code",
   "execution_count": 122,
   "metadata": {},
   "outputs": [],
   "source": [
    "import os\n",
    "import glob\n",
    "import shutil\n",
    "os.chdir( '/home/antpc/cough_detection/dataset/Respiratory_Sound_Database/Respiratory_Sound_Database/audio_and_txt_files (copy)' )\n",
    "for x in result.keys():\n",
    "    target = r'/home/antpc/cough_detection/dataset/Respiratory_Sound_Database/Respiratory_Sound_Database/diseases/'+x\n",
    "    for y in result[x]:\n",
    "        file=(glob.glob(str(y)+'*'+'.wav' ))\n",
    "        for f in file:\n",
    "            original = r'/home/antpc/cough_detection/dataset/Respiratory_Sound_Database/Respiratory_Sound_Database/audio_and_txt_files (copy)/'+f\n",
    "            shutil.copy(original,target)"
   ]
  },
  {
   "cell_type": "code",
   "execution_count": null,
   "metadata": {},
   "outputs": [],
   "source": []
  }
 ],
 "metadata": {
  "kernelspec": {
   "display_name": "Python 3",
   "language": "python",
   "name": "python3"
  },
  "language_info": {
   "codemirror_mode": {
    "name": "ipython",
    "version": 3
   },
   "file_extension": ".py",
   "mimetype": "text/x-python",
   "name": "python",
   "nbconvert_exporter": "python",
   "pygments_lexer": "ipython3",
   "version": "3.7.6"
  }
 },
 "nbformat": 4,
 "nbformat_minor": 4
}
