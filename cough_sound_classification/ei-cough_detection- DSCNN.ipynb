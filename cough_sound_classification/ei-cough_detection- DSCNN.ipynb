{
 "cells": [
  {
   "cell_type": "markdown",
   "metadata": {},
   "source": [
    "Import the data from Edge Impulse. You can obtain the URL from the Dashboard, right-click on the download icon next to 'Spectral features data' and 'Spectral features labels', and click **Copy link location**."
   ]
  },
  {
   "cell_type": "code",
   "execution_count": 1,
   "metadata": {},
   "outputs": [],
   "source": [
    "import numpy as np\n",
    "import requests\n",
    "\n",
    "API_KEY = 'ei_a4a199d2c331dd57709baf622fca6b83528f34504943bad629b613d38a1e4b17'\n",
    "\n",
    "X = (requests.get('https://studio.edgeimpulse.com/v1/api/3973/training/7/x', headers={'x-api-key': API_KEY})).content\n",
    "Y = (requests.get('https://studio.edgeimpulse.com/v1/api/3973/training/7/y', headers={'x-api-key': API_KEY})).content"
   ]
  },
  {
   "cell_type": "markdown",
   "metadata": {},
   "source": [
    "Store the data in a temporary file, and load it back through Numpy."
   ]
  },
  {
   "cell_type": "code",
   "execution_count": 2,
   "metadata": {},
   "outputs": [],
   "source": [
    "with open('x_train.npy', 'wb') as file:\n",
    "    file.write(X)\n",
    "with open('y_train.npy', 'wb') as file:\n",
    "    file.write(Y)\n",
    "X = np.load('x_train.npy')\n",
    "Y = np.load('y_train.npy')[:,0]"
   ]
  },
  {
   "cell_type": "markdown",
   "metadata": {},
   "source": [
    "Define our labels and split the data up in a test and training set:"
   ]
  },
  {
   "cell_type": "code",
   "execution_count": 3,
   "metadata": {},
   "outputs": [
    {
     "name": "stderr",
     "output_type": "stream",
     "text": [
      "C:\\Users\\digvi\\Anaconda3\\lib\\site-packages\\tensorflow\\python\\framework\\dtypes.py:516: FutureWarning: Passing (type, 1) or '1type' as a synonym of type is deprecated; in a future version of numpy, it will be understood as (type, (1,)) / '(1,)type'.\n",
      "  _np_qint8 = np.dtype([(\"qint8\", np.int8, 1)])\n",
      "C:\\Users\\digvi\\Anaconda3\\lib\\site-packages\\tensorflow\\python\\framework\\dtypes.py:517: FutureWarning: Passing (type, 1) or '1type' as a synonym of type is deprecated; in a future version of numpy, it will be understood as (type, (1,)) / '(1,)type'.\n",
      "  _np_quint8 = np.dtype([(\"quint8\", np.uint8, 1)])\n",
      "C:\\Users\\digvi\\Anaconda3\\lib\\site-packages\\tensorflow\\python\\framework\\dtypes.py:518: FutureWarning: Passing (type, 1) or '1type' as a synonym of type is deprecated; in a future version of numpy, it will be understood as (type, (1,)) / '(1,)type'.\n",
      "  _np_qint16 = np.dtype([(\"qint16\", np.int16, 1)])\n",
      "C:\\Users\\digvi\\Anaconda3\\lib\\site-packages\\tensorflow\\python\\framework\\dtypes.py:519: FutureWarning: Passing (type, 1) or '1type' as a synonym of type is deprecated; in a future version of numpy, it will be understood as (type, (1,)) / '(1,)type'.\n",
      "  _np_quint16 = np.dtype([(\"quint16\", np.uint16, 1)])\n",
      "C:\\Users\\digvi\\Anaconda3\\lib\\site-packages\\tensorflow\\python\\framework\\dtypes.py:520: FutureWarning: Passing (type, 1) or '1type' as a synonym of type is deprecated; in a future version of numpy, it will be understood as (type, (1,)) / '(1,)type'.\n",
      "  _np_qint32 = np.dtype([(\"qint32\", np.int32, 1)])\n",
      "C:\\Users\\digvi\\Anaconda3\\lib\\site-packages\\tensorflow\\python\\framework\\dtypes.py:525: FutureWarning: Passing (type, 1) or '1type' as a synonym of type is deprecated; in a future version of numpy, it will be understood as (type, (1,)) / '(1,)type'.\n",
      "  np_resource = np.dtype([(\"resource\", np.ubyte, 1)])\n",
      "C:\\Users\\digvi\\Anaconda3\\lib\\site-packages\\tensorboard\\compat\\tensorflow_stub\\dtypes.py:541: FutureWarning: Passing (type, 1) or '1type' as a synonym of type is deprecated; in a future version of numpy, it will be understood as (type, (1,)) / '(1,)type'.\n",
      "  _np_qint8 = np.dtype([(\"qint8\", np.int8, 1)])\n",
      "C:\\Users\\digvi\\Anaconda3\\lib\\site-packages\\tensorboard\\compat\\tensorflow_stub\\dtypes.py:542: FutureWarning: Passing (type, 1) or '1type' as a synonym of type is deprecated; in a future version of numpy, it will be understood as (type, (1,)) / '(1,)type'.\n",
      "  _np_quint8 = np.dtype([(\"quint8\", np.uint8, 1)])\n",
      "C:\\Users\\digvi\\Anaconda3\\lib\\site-packages\\tensorboard\\compat\\tensorflow_stub\\dtypes.py:543: FutureWarning: Passing (type, 1) or '1type' as a synonym of type is deprecated; in a future version of numpy, it will be understood as (type, (1,)) / '(1,)type'.\n",
      "  _np_qint16 = np.dtype([(\"qint16\", np.int16, 1)])\n",
      "C:\\Users\\digvi\\Anaconda3\\lib\\site-packages\\tensorboard\\compat\\tensorflow_stub\\dtypes.py:544: FutureWarning: Passing (type, 1) or '1type' as a synonym of type is deprecated; in a future version of numpy, it will be understood as (type, (1,)) / '(1,)type'.\n",
      "  _np_quint16 = np.dtype([(\"quint16\", np.uint16, 1)])\n",
      "C:\\Users\\digvi\\Anaconda3\\lib\\site-packages\\tensorboard\\compat\\tensorflow_stub\\dtypes.py:545: FutureWarning: Passing (type, 1) or '1type' as a synonym of type is deprecated; in a future version of numpy, it will be understood as (type, (1,)) / '(1,)type'.\n",
      "  _np_qint32 = np.dtype([(\"qint32\", np.int32, 1)])\n",
      "C:\\Users\\digvi\\Anaconda3\\lib\\site-packages\\tensorboard\\compat\\tensorflow_stub\\dtypes.py:550: FutureWarning: Passing (type, 1) or '1type' as a synonym of type is deprecated; in a future version of numpy, it will be understood as (type, (1,)) / '(1,)type'.\n",
      "  np_resource = np.dtype([(\"resource\", np.ubyte, 1)])\n"
     ]
    }
   ],
   "source": [
    "import sys, os, random\n",
    "import tensorflow as tf\n",
    "from sklearn.model_selection import train_test_split\n",
    "\n",
    "import logging\n",
    "tf.get_logger().setLevel(logging.ERROR)\n",
    "os.environ['TF_CPP_MIN_LOG_LEVEL'] = '2'\n",
    "\n",
    "# Set random seeds for repeatable results\n",
    "RANDOM_SEED = 3\n",
    "random.seed(RANDOM_SEED)\n",
    "np.random.seed(RANDOM_SEED)\n",
    "tf.random.set_random_seed(RANDOM_SEED)\n",
    "\n",
    "classes_values = [ \"cough\", \"no_cough\" ]\n",
    "classes = len(classes_values)\n",
    "\n",
    "Y = tf.keras.utils.to_categorical(Y - 1, classes)\n",
    "\n",
    "X_train, X_test, Y_train, Y_test = train_test_split(X, Y, test_size=0.15, random_state=1)\n",
    "\n",
    "input_length = X_train[0].shape[0]\n",
    "\n",
    "train_dataset = tf.data.Dataset.from_tensor_slices((X_train, Y_train))\n",
    "validation_dataset = tf.data.Dataset.from_tensor_slices((X_test, Y_test))\n",
    "\n",
    "def set_batch_size(batch_size, train_dataset, validation_dataset):\n",
    "    shuffle_buffer_size = batch_size * 3\n",
    "    train_dataset = train_dataset.shuffle(shuffle_buffer_size).batch(batch_size, drop_remainder=True).prefetch(1)\n",
    "    validation_dataset = validation_dataset.shuffle(shuffle_buffer_size).batch(batch_size, drop_remainder=True).prefetch(1)\n",
    "    return train_dataset, validation_dataset\n",
    "\n",
    "callbacks = tf.keras.callbacks.EarlyStopping(monitor='val_loss', patience = 5)\n"
   ]
  },
  {
   "cell_type": "markdown",
   "metadata": {},
   "source": [
    "# Train the model"
   ]
  },
  {
   "cell_type": "code",
   "execution_count": 4,
   "metadata": {},
   "outputs": [
    {
     "name": "stdout",
     "output_type": "stream",
     "text": [
      "Epoch 1/200\n",
      "550/550 - 1s - loss: 0.7723 - acc: 0.3564 - val_loss: 0.7230 - val_acc: 0.3163\n",
      "Epoch 2/200\n",
      "550/550 - 1s - loss: 0.6992 - acc: 0.4364 - val_loss: 0.6854 - val_acc: 0.4898\n",
      "Epoch 3/200\n",
      "550/550 - 1s - loss: 0.6683 - acc: 0.5964 - val_loss: 0.6633 - val_acc: 0.6122\n",
      "Epoch 4/200\n",
      "550/550 - 1s - loss: 0.6461 - acc: 0.6527 - val_loss: 0.6439 - val_acc: 0.6224\n",
      "Epoch 5/200\n",
      "550/550 - 1s - loss: 0.6272 - acc: 0.6582 - val_loss: 0.6251 - val_acc: 0.6224\n",
      "Epoch 6/200\n",
      "550/550 - 1s - loss: 0.6096 - acc: 0.6582 - val_loss: 0.6070 - val_acc: 0.6224\n",
      "Epoch 7/200\n",
      "550/550 - 1s - loss: 0.5931 - acc: 0.6618 - val_loss: 0.5895 - val_acc: 0.6327\n",
      "Epoch 8/200\n",
      "550/550 - 1s - loss: 0.5772 - acc: 0.6745 - val_loss: 0.5731 - val_acc: 0.6429\n",
      "Epoch 9/200\n",
      "550/550 - 1s - loss: 0.5624 - acc: 0.6782 - val_loss: 0.5582 - val_acc: 0.6531\n",
      "Epoch 10/200\n",
      "550/550 - 1s - loss: 0.5485 - acc: 0.6873 - val_loss: 0.5443 - val_acc: 0.6735\n",
      "Epoch 11/200\n",
      "550/550 - 1s - loss: 0.5353 - acc: 0.7182 - val_loss: 0.5313 - val_acc: 0.8265\n",
      "Epoch 12/200\n",
      "550/550 - 1s - loss: 0.5226 - acc: 0.7891 - val_loss: 0.5193 - val_acc: 0.8367\n",
      "Epoch 13/200\n",
      "550/550 - 1s - loss: 0.5106 - acc: 0.7909 - val_loss: 0.5079 - val_acc: 0.8367\n",
      "Epoch 14/200\n",
      "550/550 - 1s - loss: 0.4990 - acc: 0.7982 - val_loss: 0.4972 - val_acc: 0.8367\n",
      "Epoch 15/200\n",
      "550/550 - 1s - loss: 0.4878 - acc: 0.8018 - val_loss: 0.4874 - val_acc: 0.8469\n",
      "Epoch 16/200\n",
      "550/550 - 1s - loss: 0.4770 - acc: 0.8036 - val_loss: 0.4782 - val_acc: 0.8469\n",
      "Epoch 17/200\n",
      "550/550 - 1s - loss: 0.4665 - acc: 0.8091 - val_loss: 0.4696 - val_acc: 0.8469\n",
      "Epoch 18/200\n",
      "550/550 - 1s - loss: 0.4564 - acc: 0.8127 - val_loss: 0.4615 - val_acc: 0.8469\n",
      "Epoch 19/200\n",
      "550/550 - 1s - loss: 0.4466 - acc: 0.8164 - val_loss: 0.4537 - val_acc: 0.8469\n",
      "Epoch 20/200\n",
      "550/550 - 1s - loss: 0.4370 - acc: 0.8236 - val_loss: 0.4461 - val_acc: 0.8469\n",
      "Epoch 21/200\n",
      "550/550 - 1s - loss: 0.4274 - acc: 0.8309 - val_loss: 0.4387 - val_acc: 0.8469\n",
      "Epoch 22/200\n",
      "550/550 - 1s - loss: 0.4180 - acc: 0.8436 - val_loss: 0.4313 - val_acc: 0.8469\n",
      "Epoch 23/200\n",
      "550/550 - 1s - loss: 0.4084 - acc: 0.8473 - val_loss: 0.4241 - val_acc: 0.8469\n",
      "Epoch 24/200\n",
      "550/550 - 1s - loss: 0.3989 - acc: 0.8491 - val_loss: 0.4172 - val_acc: 0.8571\n",
      "Epoch 25/200\n",
      "550/550 - 1s - loss: 0.3895 - acc: 0.8545 - val_loss: 0.4106 - val_acc: 0.8571\n",
      "Epoch 26/200\n",
      "550/550 - 1s - loss: 0.3801 - acc: 0.8618 - val_loss: 0.4040 - val_acc: 0.8571\n",
      "Epoch 27/200\n",
      "550/550 - 1s - loss: 0.3707 - acc: 0.8691 - val_loss: 0.3975 - val_acc: 0.8571\n",
      "Epoch 28/200\n",
      "550/550 - 1s - loss: 0.3615 - acc: 0.8691 - val_loss: 0.3910 - val_acc: 0.8571\n",
      "Epoch 29/200\n",
      "550/550 - 1s - loss: 0.3524 - acc: 0.8691 - val_loss: 0.3848 - val_acc: 0.8571\n",
      "Epoch 30/200\n",
      "550/550 - 1s - loss: 0.3431 - acc: 0.8764 - val_loss: 0.3785 - val_acc: 0.8673\n",
      "Epoch 31/200\n",
      "550/550 - 1s - loss: 0.3339 - acc: 0.8836 - val_loss: 0.3720 - val_acc: 0.8673\n",
      "Epoch 32/200\n",
      "550/550 - 1s - loss: 0.3247 - acc: 0.8873 - val_loss: 0.3655 - val_acc: 0.8673\n",
      "Epoch 33/200\n",
      "550/550 - 1s - loss: 0.3157 - acc: 0.8927 - val_loss: 0.3595 - val_acc: 0.8776\n",
      "Epoch 34/200\n",
      "550/550 - 1s - loss: 0.3068 - acc: 0.8982 - val_loss: 0.3536 - val_acc: 0.8776\n",
      "Epoch 35/200\n",
      "550/550 - 1s - loss: 0.2980 - acc: 0.9018 - val_loss: 0.3478 - val_acc: 0.8878\n",
      "Epoch 36/200\n",
      "550/550 - 1s - loss: 0.2894 - acc: 0.9036 - val_loss: 0.3422 - val_acc: 0.8878\n",
      "Epoch 37/200\n",
      "550/550 - 1s - loss: 0.2809 - acc: 0.9127 - val_loss: 0.3368 - val_acc: 0.8878\n",
      "Epoch 38/200\n",
      "550/550 - 1s - loss: 0.2727 - acc: 0.9218 - val_loss: 0.3317 - val_acc: 0.8878\n",
      "Epoch 39/200\n",
      "550/550 - 1s - loss: 0.2648 - acc: 0.9255 - val_loss: 0.3268 - val_acc: 0.8878\n",
      "Epoch 40/200\n",
      "550/550 - 1s - loss: 0.2571 - acc: 0.9309 - val_loss: 0.3218 - val_acc: 0.8980\n",
      "Epoch 41/200\n",
      "550/550 - 1s - loss: 0.2497 - acc: 0.9327 - val_loss: 0.3172 - val_acc: 0.8980\n",
      "Epoch 42/200\n",
      "550/550 - 1s - loss: 0.2426 - acc: 0.9345 - val_loss: 0.3126 - val_acc: 0.8980\n",
      "Epoch 43/200\n",
      "550/550 - 1s - loss: 0.2357 - acc: 0.9382 - val_loss: 0.3080 - val_acc: 0.8980\n",
      "Epoch 44/200\n",
      "550/550 - 1s - loss: 0.2289 - acc: 0.9382 - val_loss: 0.3035 - val_acc: 0.8980\n",
      "Epoch 45/200\n",
      "550/550 - 1s - loss: 0.2224 - acc: 0.9418 - val_loss: 0.2992 - val_acc: 0.8980\n",
      "Epoch 46/200\n",
      "550/550 - 1s - loss: 0.2162 - acc: 0.9418 - val_loss: 0.2950 - val_acc: 0.9082\n",
      "Epoch 47/200\n",
      "550/550 - 1s - loss: 0.2103 - acc: 0.9436 - val_loss: 0.2910 - val_acc: 0.9082\n",
      "Epoch 48/200\n",
      "550/550 - 1s - loss: 0.2046 - acc: 0.9491 - val_loss: 0.2873 - val_acc: 0.9082\n",
      "Epoch 49/200\n",
      "550/550 - 1s - loss: 0.1991 - acc: 0.9491 - val_loss: 0.2836 - val_acc: 0.9082\n",
      "Epoch 50/200\n",
      "550/550 - 1s - loss: 0.1939 - acc: 0.9509 - val_loss: 0.2802 - val_acc: 0.9082\n",
      "Epoch 51/200\n",
      "550/550 - 1s - loss: 0.1889 - acc: 0.9509 - val_loss: 0.2768 - val_acc: 0.9082\n",
      "Epoch 52/200\n",
      "550/550 - 1s - loss: 0.1841 - acc: 0.9509 - val_loss: 0.2735 - val_acc: 0.9082\n",
      "Epoch 53/200\n",
      "550/550 - 1s - loss: 0.1795 - acc: 0.9527 - val_loss: 0.2702 - val_acc: 0.9082\n",
      "Epoch 54/200\n",
      "550/550 - 1s - loss: 0.1751 - acc: 0.9527 - val_loss: 0.2670 - val_acc: 0.9082\n",
      "Epoch 55/200\n",
      "550/550 - 1s - loss: 0.1709 - acc: 0.9527 - val_loss: 0.2640 - val_acc: 0.9082\n",
      "Epoch 56/200\n",
      "550/550 - 1s - loss: 0.1669 - acc: 0.9527 - val_loss: 0.2612 - val_acc: 0.9082\n",
      "Epoch 57/200\n",
      "550/550 - 1s - loss: 0.1631 - acc: 0.9527 - val_loss: 0.2585 - val_acc: 0.9082\n",
      "Epoch 58/200\n",
      "550/550 - 1s - loss: 0.1594 - acc: 0.9527 - val_loss: 0.2559 - val_acc: 0.9082\n",
      "Epoch 59/200\n",
      "550/550 - 1s - loss: 0.1560 - acc: 0.9527 - val_loss: 0.2534 - val_acc: 0.9082\n",
      "Epoch 60/200\n",
      "550/550 - 1s - loss: 0.1527 - acc: 0.9527 - val_loss: 0.2510 - val_acc: 0.9082\n",
      "Epoch 61/200\n",
      "550/550 - 1s - loss: 0.1496 - acc: 0.9527 - val_loss: 0.2487 - val_acc: 0.9082\n",
      "Epoch 62/200\n",
      "550/550 - 1s - loss: 0.1466 - acc: 0.9527 - val_loss: 0.2464 - val_acc: 0.9082\n",
      "Epoch 63/200\n",
      "550/550 - 1s - loss: 0.1438 - acc: 0.9527 - val_loss: 0.2444 - val_acc: 0.9082\n",
      "Epoch 64/200\n",
      "550/550 - 1s - loss: 0.1411 - acc: 0.9545 - val_loss: 0.2426 - val_acc: 0.9082\n",
      "Epoch 65/200\n",
      "550/550 - 1s - loss: 0.1386 - acc: 0.9545 - val_loss: 0.2408 - val_acc: 0.9082\n",
      "Epoch 66/200\n",
      "550/550 - 1s - loss: 0.1362 - acc: 0.9545 - val_loss: 0.2390 - val_acc: 0.9082\n",
      "Epoch 67/200\n",
      "550/550 - 1s - loss: 0.1339 - acc: 0.9545 - val_loss: 0.2371 - val_acc: 0.9082\n",
      "Epoch 68/200\n",
      "550/550 - 1s - loss: 0.1318 - acc: 0.9545 - val_loss: 0.2357 - val_acc: 0.9082\n",
      "Epoch 69/200\n",
      "550/550 - 1s - loss: 0.1298 - acc: 0.9545 - val_loss: 0.2340 - val_acc: 0.9082\n",
      "Epoch 70/200\n",
      "550/550 - 1s - loss: 0.1279 - acc: 0.9545 - val_loss: 0.2327 - val_acc: 0.9082\n",
      "Epoch 71/200\n",
      "550/550 - 1s - loss: 0.1262 - acc: 0.9545 - val_loss: 0.2313 - val_acc: 0.9082\n",
      "Epoch 72/200\n",
      "550/550 - 1s - loss: 0.1245 - acc: 0.9545 - val_loss: 0.2300 - val_acc: 0.9082\n",
      "Epoch 73/200\n",
      "550/550 - 1s - loss: 0.1230 - acc: 0.9545 - val_loss: 0.2289 - val_acc: 0.9082\n",
      "Epoch 74/200\n",
      "550/550 - 1s - loss: 0.1215 - acc: 0.9545 - val_loss: 0.2278 - val_acc: 0.9082\n",
      "Epoch 75/200\n",
      "550/550 - 1s - loss: 0.1202 - acc: 0.9545 - val_loss: 0.2269 - val_acc: 0.9082\n",
      "Epoch 76/200\n",
      "550/550 - 1s - loss: 0.1189 - acc: 0.9545 - val_loss: 0.2259 - val_acc: 0.9082\n",
      "Epoch 77/200\n",
      "550/550 - 1s - loss: 0.1177 - acc: 0.9545 - val_loss: 0.2248 - val_acc: 0.9082\n",
      "Epoch 78/200\n",
      "550/550 - 1s - loss: 0.1166 - acc: 0.9545 - val_loss: 0.2241 - val_acc: 0.9082\n",
      "Epoch 79/200\n",
      "550/550 - 1s - loss: 0.1156 - acc: 0.9545 - val_loss: 0.2235 - val_acc: 0.9082\n",
      "Epoch 80/200\n",
      "550/550 - 1s - loss: 0.1146 - acc: 0.9545 - val_loss: 0.2228 - val_acc: 0.9082\n",
      "Epoch 81/200\n",
      "550/550 - 1s - loss: 0.1137 - acc: 0.9545 - val_loss: 0.2222 - val_acc: 0.9082\n",
      "Epoch 82/200\n",
      "550/550 - 1s - loss: 0.1129 - acc: 0.9545 - val_loss: 0.2218 - val_acc: 0.9082\n",
      "Epoch 83/200\n",
      "550/550 - 1s - loss: 0.1121 - acc: 0.9545 - val_loss: 0.2214 - val_acc: 0.9082\n",
      "Epoch 84/200\n",
      "550/550 - 1s - loss: 0.1114 - acc: 0.9545 - val_loss: 0.2210 - val_acc: 0.9082\n",
      "Epoch 85/200\n",
      "550/550 - 1s - loss: 0.1107 - acc: 0.9545 - val_loss: 0.2208 - val_acc: 0.9082\n",
      "Epoch 86/200\n",
      "550/550 - 1s - loss: 0.1101 - acc: 0.9545 - val_loss: 0.2208 - val_acc: 0.9082\n",
      "Epoch 87/200\n",
      "550/550 - 1s - loss: 0.1095 - acc: 0.9545 - val_loss: 0.2207 - val_acc: 0.9082\n",
      "Epoch 88/200\n",
      "550/550 - 1s - loss: 0.1090 - acc: 0.9545 - val_loss: 0.2206 - val_acc: 0.9082\n",
      "Epoch 89/200\n",
      "550/550 - 1s - loss: 0.1085 - acc: 0.9545 - val_loss: 0.2205 - val_acc: 0.9082\n",
      "Epoch 90/200\n",
      "550/550 - 1s - loss: 0.1081 - acc: 0.9545 - val_loss: 0.2208 - val_acc: 0.9082\n",
      "Epoch 91/200\n",
      "550/550 - 1s - loss: 0.1077 - acc: 0.9545 - val_loss: 0.2209 - val_acc: 0.9082\n",
      "Epoch 92/200\n",
      "550/550 - 1s - loss: 0.1073 - acc: 0.9545 - val_loss: 0.2212 - val_acc: 0.9082\n",
      "Epoch 93/200\n",
      "550/550 - 1s - loss: 0.1069 - acc: 0.9545 - val_loss: 0.2214 - val_acc: 0.9082\n",
      "Epoch 94/200\n",
      "550/550 - 1s - loss: 0.1066 - acc: 0.9545 - val_loss: 0.2220 - val_acc: 0.9082\n"
     ]
    }
   ],
   "source": [
    "import tensorflow as tf\n",
    "from tensorflow.keras.models import Sequential\n",
    "from tensorflow.keras.layers import Dense, InputLayer, Dropout, Conv1D, Conv2D, Flatten, SeparableConv1D, Reshape, MaxPooling1D, AveragePooling2D, BatchNormalization\n",
    "from tensorflow.keras.optimizers import Adam\n",
    "# model architecture\n",
    "model = Sequential()\n",
    "model.add(InputLayer(input_shape=(input_length, ), name='x_input'))\n",
    "model.add(Reshape((int(input_length / 13), 13), input_shape=(input_length, )))\n",
    "model.add(Conv1D(30, kernel_size=5, activation='relu'))\n",
    "model.add(MaxPooling1D(pool_size=5, padding='same'))\n",
    "model.add(SeparableConv1D(10, kernel_size=5, activation='relu'))\n",
    "model.add(MaxPooling1D(pool_size=5, padding='same'))\n",
    "model.add(Flatten())\n",
    "model.add(Dense(classes, activation='softmax', name='y_pred'))\n",
    "\n",
    "# this controls the learning rate\n",
    "opt = Adam(lr=0.00005, beta_1=0.9, beta_2=0.999)\n",
    "\n",
    "# this controls the batch size, or you can manipulate the tf.data.Dataset objects yourself\n",
    "BATCH_SIZE = 1\n",
    "train_dataset, validation_dataset = set_batch_size(BATCH_SIZE, train_dataset, validation_dataset)\n",
    "\n",
    "# train the neural network\n",
    "model.compile(loss='categorical_crossentropy', optimizer=opt, metrics=['accuracy'])\n",
    "history = model.fit(train_dataset, epochs=200, validation_data=validation_dataset, verbose=2, callbacks=[callbacks])\n"
   ]
  },
  {
   "cell_type": "markdown",
   "metadata": {},
   "source": [
    "# Visualizations"
   ]
  },
  {
   "cell_type": "code",
   "execution_count": 5,
   "metadata": {},
   "outputs": [
    {
     "data": {
      "image/png": "[encoded data removed]",
      "text/plain": [
       "<Figure size 720x432 with 1 Axes>"
      ]
     },
     "metadata": {
      "needs_background": "light"
     },
     "output_type": "display_data"
    },
    {
     "data": {
      "image/png": "[encoded data removed]",
      "text/plain": [
       "<Figure size 720x432 with 1 Axes>"
      ]
     },
     "metadata": {
      "needs_background": "light"
     },
     "output_type": "display_data"
    }
   ],
   "source": [
    "import matplotlib.pyplot as plt\n",
    "def visualize_training(history, lw = 3):\n",
    "    plt.figure(figsize=(10,6))\n",
    "    plt.plot(history.history['acc'], label = 'training', marker = '*', linewidth = lw)\n",
    "    plt.plot(history.history['val_acc'], label = 'validation', marker = 'o', linewidth = lw)\n",
    "    plt.title('Training Accuracy vs Validation Accuracy')\n",
    "    plt.xlabel('Epochs')\n",
    "    plt.ylabel('Accuracy')\n",
    "    plt.legend(fontsize = 'x-large')\n",
    "    plt.show()\n",
    "\n",
    "    plt.figure(figsize=(10,6))\n",
    "    plt.plot(history.history['loss'], label = 'training', marker = '*', linewidth = lw)\n",
    "    plt.plot(history.history['val_loss'], label = 'validation', marker = 'o', linewidth = lw)\n",
    "    plt.title('Training Loss vs Validation Loss')\n",
    "    plt.xlabel('Epochs')\n",
    "    plt.ylabel('Loss')\n",
    "    plt.legend(fontsize = 'x-large')\n",
    "    plt.show()\n",
    "visualize_training(history)"
   ]
  },
  {
   "cell_type": "code",
   "execution_count": 6,
   "metadata": {},
   "outputs": [],
   "source": [
    "# Save the model to disk\n",
    "model.save('saved_model')"
   ]
  },
  {
   "cell_type": "markdown",
   "metadata": {},
   "source": [
    "# Predictions and Classification Report"
   ]
  },
  {
   "cell_type": "code",
   "execution_count": 7,
   "metadata": {},
   "outputs": [
    {
     "data": {
      "text/plain": [
       "array([[3.9478734e-02, 9.6052128e-01],\n",
       "       [4.6643987e-03, 9.9533564e-01],\n",
       "       [9.9993122e-01, 6.8793372e-05],\n",
       "       [1.0000000e+00, 9.1287857e-09],\n",
       "       [7.6366824e-01, 2.3633170e-01],\n",
       "       [1.0000000e+00, 8.2650589e-09]], dtype=float32)"
      ]
     },
     "execution_count": 7,
     "metadata": {},
     "output_type": "execute_result"
    }
   ],
   "source": [
    "from sklearn.metrics import confusion_matrix, classification_report, roc_auc_score\n",
    "\n",
    "predictions = model.predict(validation_dataset)\n",
    "predictions[0:6]"
   ]
  },
  {
   "cell_type": "code",
   "execution_count": 8,
   "metadata": {},
   "outputs": [
    {
     "data": {
      "text/plain": [
       "array([1, 1, 0, 0, 0, 0, 1, 0, 1, 1, 1, 1, 1, 1, 0, 1, 1, 0, 1, 1, 1, 0,\n",
       "       0, 0, 0, 0, 0, 0, 0, 1, 1, 1, 0, 1, 0, 0, 1, 1, 0, 0, 1, 1, 1, 1,\n",
       "       0, 1, 0, 0, 0, 1, 0, 1, 0, 1, 1, 0, 0, 1, 0, 0, 1, 0, 0, 1, 1, 1,\n",
       "       0, 0, 0, 1, 1, 0, 1, 1, 0, 1, 1, 0, 1, 0, 1, 1, 1, 1, 1, 0, 0, 1,\n",
       "       1, 0, 0, 1, 0, 0, 0, 0, 0, 1], dtype=int64)"
      ]
     },
     "execution_count": 8,
     "metadata": {},
     "output_type": "execute_result"
    }
   ],
   "source": [
    "predicted_class_indices=np.argmax(predictions,axis=1)\n",
    "predicted_class_indices"
   ]
  },
  {
   "cell_type": "code",
   "execution_count": null,
   "metadata": {},
   "outputs": [],
   "source": []
  }
 ],
 "metadata": {
  "kernelspec": {
   "display_name": "Python 3",
   "language": "python",
   "name": "python3"
  },
  "language_info": {
   "codemirror_mode": {
    "name": "ipython",
    "version": 3
   },
   "file_extension": ".py",
   "mimetype": "text/x-python",
   "name": "python",
   "nbconvert_exporter": "python",
   "pygments_lexer": "ipython3",
   "version": "3.7.6"
  }
 },
 "nbformat": 4,
 "nbformat_minor": 4
}
