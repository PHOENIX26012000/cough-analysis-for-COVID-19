{
 "cells": [
  {
   "cell_type": "markdown",
   "metadata": {},
   "source": [
    "Import the data from Edge Impulse. You can obtain the URL from the Dashboard, right-click on the download icon next to 'Spectral features data' and 'Spectral features labels', and click **Copy link location**."
   ]
  },
  {
   "cell_type": "code",
   "execution_count": 1,
   "metadata": {},
   "outputs": [],
   "source": [
    "import numpy as np\n",
    "import requests\n",
    "\n",
    "API_KEY = 'ei_a4a199d2c331dd57709baf622fca6b83528f34504943bad629b613d38a1e4b17'\n",
    "\n",
    "X = (requests.get('https://studio.edgeimpulse.com/v1/api/3973/training/7/x', headers={'x-api-key': API_KEY})).content\n",
    "Y = (requests.get('https://studio.edgeimpulse.com/v1/api/3973/training/7/y', headers={'x-api-key': API_KEY})).content"
   ]
  },
  {
   "cell_type": "markdown",
   "metadata": {},
   "source": [
    "Store the data in a temporary file, and load it back through Numpy."
   ]
  },
  {
   "cell_type": "code",
   "execution_count": 2,
   "metadata": {},
   "outputs": [],
   "source": [
    "with open('x_train.npy', 'wb') as file:\n",
    "    file.write(X)\n",
    "with open('y_train.npy', 'wb') as file:\n",
    "    file.write(Y)\n",
    "X = np.load('x_train.npy')\n",
    "Y = np.load('y_train.npy')[:,0]"
   ]
  },
  {
   "cell_type": "markdown",
   "metadata": {},
   "source": [
    "Define our labels and split the data up in a test and training set:"
   ]
  },
  {
   "cell_type": "code",
   "execution_count": 3,
   "metadata": {},
   "outputs": [
    {
     "name": "stderr",
     "output_type": "stream",
     "text": [
      "C:\\Users\\digvi\\Anaconda3\\lib\\site-packages\\tensorflow\\python\\framework\\dtypes.py:516: FutureWarning: Passing (type, 1) or '1type' as a synonym of type is deprecated; in a future version of numpy, it will be understood as (type, (1,)) / '(1,)type'.\n",
      "  _np_qint8 = np.dtype([(\"qint8\", np.int8, 1)])\n",
      "C:\\Users\\digvi\\Anaconda3\\lib\\site-packages\\tensorflow\\python\\framework\\dtypes.py:517: FutureWarning: Passing (type, 1) or '1type' as a synonym of type is deprecated; in a future version of numpy, it will be understood as (type, (1,)) / '(1,)type'.\n",
      "  _np_quint8 = np.dtype([(\"quint8\", np.uint8, 1)])\n",
      "C:\\Users\\digvi\\Anaconda3\\lib\\site-packages\\tensorflow\\python\\framework\\dtypes.py:518: FutureWarning: Passing (type, 1) or '1type' as a synonym of type is deprecated; in a future version of numpy, it will be understood as (type, (1,)) / '(1,)type'.\n",
      "  _np_qint16 = np.dtype([(\"qint16\", np.int16, 1)])\n",
      "C:\\Users\\digvi\\Anaconda3\\lib\\site-packages\\tensorflow\\python\\framework\\dtypes.py:519: FutureWarning: Passing (type, 1) or '1type' as a synonym of type is deprecated; in a future version of numpy, it will be understood as (type, (1,)) / '(1,)type'.\n",
      "  _np_quint16 = np.dtype([(\"quint16\", np.uint16, 1)])\n",
      "C:\\Users\\digvi\\Anaconda3\\lib\\site-packages\\tensorflow\\python\\framework\\dtypes.py:520: FutureWarning: Passing (type, 1) or '1type' as a synonym of type is deprecated; in a future version of numpy, it will be understood as (type, (1,)) / '(1,)type'.\n",
      "  _np_qint32 = np.dtype([(\"qint32\", np.int32, 1)])\n",
      "C:\\Users\\digvi\\Anaconda3\\lib\\site-packages\\tensorflow\\python\\framework\\dtypes.py:525: FutureWarning: Passing (type, 1) or '1type' as a synonym of type is deprecated; in a future version of numpy, it will be understood as (type, (1,)) / '(1,)type'.\n",
      "  np_resource = np.dtype([(\"resource\", np.ubyte, 1)])\n",
      "C:\\Users\\digvi\\Anaconda3\\lib\\site-packages\\tensorboard\\compat\\tensorflow_stub\\dtypes.py:541: FutureWarning: Passing (type, 1) or '1type' as a synonym of type is deprecated; in a future version of numpy, it will be understood as (type, (1,)) / '(1,)type'.\n",
      "  _np_qint8 = np.dtype([(\"qint8\", np.int8, 1)])\n",
      "C:\\Users\\digvi\\Anaconda3\\lib\\site-packages\\tensorboard\\compat\\tensorflow_stub\\dtypes.py:542: FutureWarning: Passing (type, 1) or '1type' as a synonym of type is deprecated; in a future version of numpy, it will be understood as (type, (1,)) / '(1,)type'.\n",
      "  _np_quint8 = np.dtype([(\"quint8\", np.uint8, 1)])\n",
      "C:\\Users\\digvi\\Anaconda3\\lib\\site-packages\\tensorboard\\compat\\tensorflow_stub\\dtypes.py:543: FutureWarning: Passing (type, 1) or '1type' as a synonym of type is deprecated; in a future version of numpy, it will be understood as (type, (1,)) / '(1,)type'.\n",
      "  _np_qint16 = np.dtype([(\"qint16\", np.int16, 1)])\n",
      "C:\\Users\\digvi\\Anaconda3\\lib\\site-packages\\tensorboard\\compat\\tensorflow_stub\\dtypes.py:544: FutureWarning: Passing (type, 1) or '1type' as a synonym of type is deprecated; in a future version of numpy, it will be understood as (type, (1,)) / '(1,)type'.\n",
      "  _np_quint16 = np.dtype([(\"quint16\", np.uint16, 1)])\n",
      "C:\\Users\\digvi\\Anaconda3\\lib\\site-packages\\tensorboard\\compat\\tensorflow_stub\\dtypes.py:545: FutureWarning: Passing (type, 1) or '1type' as a synonym of type is deprecated; in a future version of numpy, it will be understood as (type, (1,)) / '(1,)type'.\n",
      "  _np_qint32 = np.dtype([(\"qint32\", np.int32, 1)])\n",
      "C:\\Users\\digvi\\Anaconda3\\lib\\site-packages\\tensorboard\\compat\\tensorflow_stub\\dtypes.py:550: FutureWarning: Passing (type, 1) or '1type' as a synonym of type is deprecated; in a future version of numpy, it will be understood as (type, (1,)) / '(1,)type'.\n",
      "  np_resource = np.dtype([(\"resource\", np.ubyte, 1)])\n"
     ]
    }
   ],
   "source": [
    "import sys, os, random\n",
    "import tensorflow as tf\n",
    "from sklearn.model_selection import train_test_split\n",
    "\n",
    "import logging\n",
    "tf.get_logger().setLevel(logging.ERROR)\n",
    "os.environ['TF_CPP_MIN_LOG_LEVEL'] = '2'\n",
    "\n",
    "# Set random seeds for repeatable results\n",
    "RANDOM_SEED = 3\n",
    "random.seed(RANDOM_SEED)\n",
    "np.random.seed(RANDOM_SEED)\n",
    "tf.random.set_random_seed(RANDOM_SEED)\n",
    "\n",
    "classes_values = [ \"cough\", \"no_cough\" ]\n",
    "classes = len(classes_values)\n",
    "\n",
    "Y = tf.keras.utils.to_categorical(Y - 1, classes)\n",
    "\n",
    "X_train, X_test, Y_train, Y_test = train_test_split(X, Y, test_size=0.15, random_state=1)\n",
    "\n",
    "input_length = X_train[0].shape[0]\n",
    "\n",
    "train_dataset = tf.data.Dataset.from_tensor_slices((X_train, Y_train))\n",
    "validation_dataset = tf.data.Dataset.from_tensor_slices((X_test, Y_test))\n",
    "\n",
    "def set_batch_size(batch_size, train_dataset, validation_dataset):\n",
    "    shuffle_buffer_size = batch_size * 3\n",
    "    train_dataset = train_dataset.shuffle(shuffle_buffer_size).batch(batch_size, drop_remainder=True).prefetch(1)\n",
    "    validation_dataset = validation_dataset.shuffle(shuffle_buffer_size).batch(batch_size, drop_remainder=True).prefetch(1)\n",
    "    return train_dataset, validation_dataset\n",
    "\n",
    "callbacks = tf.keras.callbacks.EarlyStopping(monitor='val_loss', patience = 5)\n"
   ]
  },
  {
   "cell_type": "markdown",
   "metadata": {},
   "source": [
    "# Train the model"
   ]
  },
  {
   "cell_type": "code",
   "execution_count": 4,
   "metadata": {},
   "outputs": [
    {
     "name": "stdout",
     "output_type": "stream",
     "text": [
      "Model: \"sequential\"\n",
      "_________________________________________________________________\n",
      "Layer (type)                 Output Shape              Param #   \n",
      "=================================================================\n",
      "reshape (Reshape)            (None, 32, 13)            0         \n",
      "_________________________________________________________________\n",
      "conv1d (Conv1D)              (None, 28, 30)            1980      \n",
      "_________________________________________________________________\n",
      "max_pooling1d (MaxPooling1D) (None, 6, 30)             0         \n",
      "_________________________________________________________________\n",
      "separable_conv1d (SeparableC (None, 2, 10)             460       \n",
      "_________________________________________________________________\n",
      "max_pooling1d_1 (MaxPooling1 (None, 1, 10)             0         \n",
      "_________________________________________________________________\n",
      "flatten (Flatten)            (None, 10)                0         \n",
      "_________________________________________________________________\n",
      "y_pred (Dense)               (None, 2)                 22        \n",
      "=================================================================\n",
      "Total params: 2,462\n",
      "Trainable params: 2,462\n",
      "Non-trainable params: 0\n",
      "_________________________________________________________________\n",
      "Epoch 1/200\n",
      "612/612 - 1s - loss: 0.7555 - acc: 0.3758 - val_loss: 0.7050 - val_acc: 0.4259\n",
      "Epoch 2/200\n",
      "612/612 - 1s - loss: 0.6968 - acc: 0.4199 - val_loss: 0.6835 - val_acc: 0.4907\n",
      "Epoch 3/200\n",
      "612/612 - 1s - loss: 0.6698 - acc: 0.5408 - val_loss: 0.6698 - val_acc: 0.5463\n",
      "Epoch 4/200\n",
      "612/612 - 1s - loss: 0.6486 - acc: 0.6144 - val_loss: 0.6563 - val_acc: 0.5556\n",
      "Epoch 5/200\n",
      "612/612 - 1s - loss: 0.6297 - acc: 0.6438 - val_loss: 0.6433 - val_acc: 0.5833\n",
      "Epoch 6/200\n",
      "612/612 - 1s - loss: 0.6118 - acc: 0.7206 - val_loss: 0.6308 - val_acc: 0.7315\n",
      "Epoch 7/200\n",
      "612/612 - 1s - loss: 0.5952 - acc: 0.7745 - val_loss: 0.6184 - val_acc: 0.7315\n",
      "Epoch 8/200\n",
      "612/612 - 1s - loss: 0.5795 - acc: 0.7892 - val_loss: 0.6068 - val_acc: 0.7407\n",
      "Epoch 9/200\n",
      "612/612 - 1s - loss: 0.5645 - acc: 0.7925 - val_loss: 0.5958 - val_acc: 0.7407\n",
      "Epoch 10/200\n",
      "612/612 - 1s - loss: 0.5502 - acc: 0.8023 - val_loss: 0.5852 - val_acc: 0.7315\n",
      "Epoch 11/200\n",
      "612/612 - 1s - loss: 0.5367 - acc: 0.8039 - val_loss: 0.5754 - val_acc: 0.7407\n",
      "Epoch 12/200\n",
      "612/612 - 1s - loss: 0.5240 - acc: 0.8121 - val_loss: 0.5660 - val_acc: 0.7407\n",
      "Epoch 13/200\n",
      "612/612 - 1s - loss: 0.5121 - acc: 0.8121 - val_loss: 0.5570 - val_acc: 0.7500\n",
      "Epoch 14/200\n",
      "612/612 - 1s - loss: 0.5009 - acc: 0.8186 - val_loss: 0.5484 - val_acc: 0.7500\n",
      "Epoch 15/200\n",
      "612/612 - 1s - loss: 0.4902 - acc: 0.8235 - val_loss: 0.5402 - val_acc: 0.7593\n",
      "Epoch 16/200\n",
      "612/612 - 1s - loss: 0.4800 - acc: 0.8268 - val_loss: 0.5322 - val_acc: 0.7593\n",
      "Epoch 17/200\n",
      "612/612 - 1s - loss: 0.4702 - acc: 0.8284 - val_loss: 0.5244 - val_acc: 0.7778\n",
      "Epoch 18/200\n",
      "612/612 - 1s - loss: 0.4605 - acc: 0.8333 - val_loss: 0.5164 - val_acc: 0.7963\n",
      "Epoch 19/200\n",
      "612/612 - 1s - loss: 0.4511 - acc: 0.8382 - val_loss: 0.5085 - val_acc: 0.7963\n",
      "Epoch 20/200\n",
      "612/612 - 1s - loss: 0.4419 - acc: 0.8399 - val_loss: 0.5007 - val_acc: 0.8056\n",
      "Epoch 21/200\n",
      "612/612 - 1s - loss: 0.4329 - acc: 0.8431 - val_loss: 0.4932 - val_acc: 0.8148\n",
      "Epoch 22/200\n",
      "612/612 - 1s - loss: 0.4241 - acc: 0.8448 - val_loss: 0.4859 - val_acc: 0.8148\n",
      "Epoch 23/200\n",
      "612/612 - 1s - loss: 0.4153 - acc: 0.8480 - val_loss: 0.4783 - val_acc: 0.8241\n",
      "Epoch 24/200\n",
      "612/612 - 1s - loss: 0.4066 - acc: 0.8546 - val_loss: 0.4710 - val_acc: 0.8241\n",
      "Epoch 25/200\n",
      "612/612 - 1s - loss: 0.3980 - acc: 0.8562 - val_loss: 0.4634 - val_acc: 0.8241\n",
      "Epoch 26/200\n",
      "612/612 - 1s - loss: 0.3894 - acc: 0.8562 - val_loss: 0.4559 - val_acc: 0.8333\n",
      "Epoch 27/200\n",
      "612/612 - 1s - loss: 0.3808 - acc: 0.8611 - val_loss: 0.4482 - val_acc: 0.8333\n",
      "Epoch 28/200\n",
      "612/612 - 1s - loss: 0.3721 - acc: 0.8693 - val_loss: 0.4403 - val_acc: 0.8426\n",
      "Epoch 29/200\n",
      "612/612 - 1s - loss: 0.3634 - acc: 0.8742 - val_loss: 0.4327 - val_acc: 0.8426\n",
      "Epoch 30/200\n",
      "612/612 - 1s - loss: 0.3548 - acc: 0.8791 - val_loss: 0.4249 - val_acc: 0.8426\n",
      "Epoch 31/200\n",
      "612/612 - 1s - loss: 0.3459 - acc: 0.8824 - val_loss: 0.4169 - val_acc: 0.8426\n",
      "Epoch 32/200\n",
      "612/612 - 1s - loss: 0.3370 - acc: 0.8873 - val_loss: 0.4088 - val_acc: 0.8333\n",
      "Epoch 33/200\n",
      "612/612 - 1s - loss: 0.3282 - acc: 0.8954 - val_loss: 0.4010 - val_acc: 0.8426\n",
      "Epoch 34/200\n",
      "612/612 - 1s - loss: 0.3194 - acc: 0.8987 - val_loss: 0.3934 - val_acc: 0.8519\n",
      "Epoch 35/200\n",
      "612/612 - 1s - loss: 0.3109 - acc: 0.9036 - val_loss: 0.3857 - val_acc: 0.8704\n",
      "Epoch 36/200\n",
      "612/612 - 1s - loss: 0.3025 - acc: 0.9085 - val_loss: 0.3782 - val_acc: 0.8704\n",
      "Epoch 37/200\n",
      "612/612 - 1s - loss: 0.2942 - acc: 0.9118 - val_loss: 0.3707 - val_acc: 0.8704\n",
      "Epoch 38/200\n",
      "612/612 - 1s - loss: 0.2861 - acc: 0.9150 - val_loss: 0.3636 - val_acc: 0.8704\n",
      "Epoch 39/200\n",
      "612/612 - 1s - loss: 0.2783 - acc: 0.9199 - val_loss: 0.3564 - val_acc: 0.8704\n",
      "Epoch 40/200\n",
      "612/612 - 1s - loss: 0.2707 - acc: 0.9199 - val_loss: 0.3493 - val_acc: 0.8796\n",
      "Epoch 41/200\n",
      "612/612 - 1s - loss: 0.2633 - acc: 0.9216 - val_loss: 0.3421 - val_acc: 0.8889\n",
      "Epoch 42/200\n",
      "612/612 - 1s - loss: 0.2561 - acc: 0.9248 - val_loss: 0.3354 - val_acc: 0.8981\n",
      "Epoch 43/200\n",
      "612/612 - 1s - loss: 0.2491 - acc: 0.9281 - val_loss: 0.3289 - val_acc: 0.8981\n",
      "Epoch 44/200\n",
      "612/612 - 1s - loss: 0.2424 - acc: 0.9330 - val_loss: 0.3227 - val_acc: 0.9074\n",
      "Epoch 45/200\n",
      "612/612 - 1s - loss: 0.2359 - acc: 0.9363 - val_loss: 0.3166 - val_acc: 0.9074\n",
      "Epoch 46/200\n",
      "612/612 - 1s - loss: 0.2297 - acc: 0.9412 - val_loss: 0.3106 - val_acc: 0.9074\n",
      "Epoch 47/200\n",
      "612/612 - 1s - loss: 0.2238 - acc: 0.9428 - val_loss: 0.3047 - val_acc: 0.9167\n",
      "Epoch 48/200\n",
      "612/612 - 1s - loss: 0.2181 - acc: 0.9428 - val_loss: 0.2992 - val_acc: 0.9167\n",
      "Epoch 49/200\n",
      "612/612 - 1s - loss: 0.2127 - acc: 0.9444 - val_loss: 0.2940 - val_acc: 0.9167\n",
      "Epoch 50/200\n",
      "612/612 - 1s - loss: 0.2075 - acc: 0.9444 - val_loss: 0.2892 - val_acc: 0.9167\n",
      "Epoch 51/200\n",
      "612/612 - 1s - loss: 0.2026 - acc: 0.9444 - val_loss: 0.2847 - val_acc: 0.9167\n",
      "Epoch 52/200\n",
      "612/612 - 1s - loss: 0.1978 - acc: 0.9444 - val_loss: 0.2806 - val_acc: 0.9167\n",
      "Epoch 53/200\n",
      "612/612 - 1s - loss: 0.1933 - acc: 0.9444 - val_loss: 0.2765 - val_acc: 0.9167\n",
      "Epoch 54/200\n",
      "612/612 - 1s - loss: 0.1890 - acc: 0.9444 - val_loss: 0.2727 - val_acc: 0.9259\n",
      "Epoch 55/200\n",
      "612/612 - 1s - loss: 0.1849 - acc: 0.9461 - val_loss: 0.2691 - val_acc: 0.9259\n",
      "Epoch 56/200\n",
      "612/612 - 1s - loss: 0.1810 - acc: 0.9493 - val_loss: 0.2658 - val_acc: 0.9259\n",
      "Epoch 57/200\n",
      "612/612 - 1s - loss: 0.1772 - acc: 0.9493 - val_loss: 0.2627 - val_acc: 0.9259\n",
      "Epoch 58/200\n",
      "612/612 - 1s - loss: 0.1736 - acc: 0.9493 - val_loss: 0.2598 - val_acc: 0.9259\n",
      "Epoch 59/200\n",
      "612/612 - 1s - loss: 0.1701 - acc: 0.9493 - val_loss: 0.2571 - val_acc: 0.9259\n",
      "Epoch 60/200\n",
      "612/612 - 1s - loss: 0.1667 - acc: 0.9510 - val_loss: 0.2544 - val_acc: 0.9167\n",
      "Epoch 61/200\n",
      "612/612 - 1s - loss: 0.1636 - acc: 0.9510 - val_loss: 0.2518 - val_acc: 0.9167\n",
      "Epoch 62/200\n",
      "612/612 - 1s - loss: 0.1606 - acc: 0.9526 - val_loss: 0.2494 - val_acc: 0.9167\n",
      "Epoch 63/200\n",
      "612/612 - 1s - loss: 0.1576 - acc: 0.9526 - val_loss: 0.2470 - val_acc: 0.9167\n",
      "Epoch 64/200\n",
      "612/612 - 1s - loss: 0.1549 - acc: 0.9526 - val_loss: 0.2449 - val_acc: 0.9167\n",
      "Epoch 65/200\n",
      "612/612 - 1s - loss: 0.1523 - acc: 0.9526 - val_loss: 0.2427 - val_acc: 0.9167\n",
      "Epoch 66/200\n",
      "612/612 - 1s - loss: 0.1498 - acc: 0.9526 - val_loss: 0.2412 - val_acc: 0.9167\n",
      "Epoch 67/200\n",
      "612/612 - 1s - loss: 0.1473 - acc: 0.9526 - val_loss: 0.2394 - val_acc: 0.9167\n",
      "Epoch 68/200\n",
      "612/612 - 1s - loss: 0.1450 - acc: 0.9526 - val_loss: 0.2378 - val_acc: 0.9167\n",
      "Epoch 69/200\n",
      "612/612 - 1s - loss: 0.1428 - acc: 0.9542 - val_loss: 0.2365 - val_acc: 0.9167\n",
      "Epoch 70/200\n",
      "612/612 - 1s - loss: 0.1408 - acc: 0.9542 - val_loss: 0.2355 - val_acc: 0.9074\n",
      "Epoch 71/200\n",
      "612/612 - 1s - loss: 0.1388 - acc: 0.9542 - val_loss: 0.2341 - val_acc: 0.9074\n",
      "Epoch 72/200\n",
      "612/612 - 1s - loss: 0.1370 - acc: 0.9542 - val_loss: 0.2331 - val_acc: 0.9074\n",
      "Epoch 73/200\n",
      "612/612 - 1s - loss: 0.1353 - acc: 0.9542 - val_loss: 0.2324 - val_acc: 0.9074\n",
      "Epoch 74/200\n",
      "612/612 - 1s - loss: 0.1336 - acc: 0.9542 - val_loss: 0.2315 - val_acc: 0.8981\n",
      "Epoch 75/200\n",
      "612/612 - 1s - loss: 0.1321 - acc: 0.9542 - val_loss: 0.2309 - val_acc: 0.8981\n",
      "Epoch 76/200\n",
      "612/612 - 1s - loss: 0.1306 - acc: 0.9542 - val_loss: 0.2305 - val_acc: 0.8981\n",
      "Epoch 77/200\n",
      "612/612 - 1s - loss: 0.1292 - acc: 0.9542 - val_loss: 0.2295 - val_acc: 0.8981\n",
      "Epoch 78/200\n",
      "612/612 - 1s - loss: 0.1279 - acc: 0.9542 - val_loss: 0.2294 - val_acc: 0.8981\n",
      "Epoch 79/200\n",
      "612/612 - 1s - loss: 0.1267 - acc: 0.9542 - val_loss: 0.2289 - val_acc: 0.8981\n",
      "Epoch 80/200\n",
      "612/612 - 1s - loss: 0.1255 - acc: 0.9542 - val_loss: 0.2284 - val_acc: 0.8981\n",
      "Epoch 81/200\n",
      "612/612 - 1s - loss: 0.1244 - acc: 0.9542 - val_loss: 0.2282 - val_acc: 0.8981\n",
      "Epoch 82/200\n",
      "612/612 - 1s - loss: 0.1234 - acc: 0.9542 - val_loss: 0.2282 - val_acc: 0.8981\n",
      "Epoch 83/200\n",
      "612/612 - 1s - loss: 0.1224 - acc: 0.9542 - val_loss: 0.2283 - val_acc: 0.8981\n",
      "Epoch 84/200\n",
      "612/612 - 1s - loss: 0.1215 - acc: 0.9542 - val_loss: 0.2283 - val_acc: 0.8981\n",
      "Epoch 85/200\n",
      "612/612 - 1s - loss: 0.1206 - acc: 0.9542 - val_loss: 0.2282 - val_acc: 0.8981\n",
      "Epoch 86/200\n",
      "612/612 - 1s - loss: 0.1198 - acc: 0.9542 - val_loss: 0.2286 - val_acc: 0.8889\n"
     ]
    }
   ],
   "source": [
    "import tensorflow as tf\n",
    "from tensorflow.keras.models import Sequential\n",
    "from tensorflow.keras.layers import Dense, InputLayer, Dropout, Conv1D, Conv2D, Flatten, SeparableConv1D, Reshape, MaxPooling1D, AveragePooling2D, BatchNormalization\n",
    "from tensorflow.keras.optimizers import Adam\n",
    "# model architecture\n",
    "model = Sequential()\n",
    "model.add(InputLayer(input_shape=(input_length, ), name='x_input'))\n",
    "model.add(Reshape((int(input_length / 13), 13), input_shape=(input_length, )))\n",
    "model.add(Conv1D(30, kernel_size=5, activation='relu'))\n",
    "model.add(MaxPooling1D(pool_size=5, padding='same'))\n",
    "model.add(SeparableConv1D(10, kernel_size=5, activation='relu'))\n",
    "model.add(MaxPooling1D(pool_size=5, padding='same'))\n",
    "model.add(Flatten())\n",
    "model.add(Dense(classes, activation='softmax', name='y_pred'))\n",
    "model.summary()\n",
    "\n",
    "\n",
    "# this controls the learning rate\n",
    "opt = Adam(lr=0.00005, beta_1=0.9, beta_2=0.999)\n",
    "\n",
    "# this controls the batch size, or you can manipulate the tf.data.Dataset objects yourself\n",
    "BATCH_SIZE = 1\n",
    "train_dataset, validation_dataset = set_batch_size(BATCH_SIZE, train_dataset, validation_dataset)\n",
    "\n",
    "# train the neural network\n",
    "model.compile(loss='categorical_crossentropy', optimizer=opt, metrics=['accuracy'])\n",
    "history = model.fit(train_dataset, epochs=200, validation_data=validation_dataset, verbose=2, callbacks=[callbacks])\n"
   ]
  },
  {
   "cell_type": "markdown",
   "metadata": {},
   "source": [
    "# Visualizations"
   ]
  },
  {
   "cell_type": "code",
   "execution_count": 10,
   "metadata": {},
   "outputs": [
    {
     "data": {
      "image/png": "[encoded data removed]",
      "text/plain": [
       "<IPython.core.display.Image object>"
      ]
     },
     "execution_count": 10,
     "metadata": {},
     "output_type": "execute_result"
    }
   ],
   "source": [
    "model_png = tf.keras.utils.plot_model( model, to_file='model.png', show_shapes=False, show_layer_names=True)\n",
    "model_png"
   ]
  },
  {
   "cell_type": "code",
   "execution_count": 5,
   "metadata": {},
   "outputs": [
    {
     "data": {
      "image/png": "[encoded data removed]",
      "text/plain": [
       "<Figure size 720x432 with 1 Axes>"
      ]
     },
     "metadata": {
      "needs_background": "light"
     },
     "output_type": "display_data"
    },
    {
     "data": {
      "image/png": "[encoded data removed]",
      "text/plain": [
       "<Figure size 720x432 with 1 Axes>"
      ]
     },
     "metadata": {
      "needs_background": "light"
     },
     "output_type": "display_data"
    }
   ],
   "source": [
    "import matplotlib.pyplot as plt\n",
    "def visualize_training(history, lw = 3):\n",
    "    plt.figure(figsize=(10,6))\n",
    "    plt.plot(history.history['acc'], label = 'training', marker = '*', linewidth = lw)\n",
    "    plt.plot(history.history['val_acc'], label = 'validation', marker = 'o', linewidth = lw)\n",
    "    plt.title('Training Accuracy vs Validation Accuracy')\n",
    "    plt.xlabel('Epochs')\n",
    "    plt.ylabel('Accuracy')\n",
    "    plt.legend(fontsize = 'x-large')\n",
    "    plt.show()\n",
    "\n",
    "    plt.figure(figsize=(10,6))\n",
    "    plt.plot(history.history['loss'], label = 'training', marker = '*', linewidth = lw)\n",
    "    plt.plot(history.history['val_loss'], label = 'validation', marker = 'o', linewidth = lw)\n",
    "    plt.title('Training Loss vs Validation Loss')\n",
    "    plt.xlabel('Epochs')\n",
    "    plt.ylabel('Loss')\n",
    "    plt.legend(fontsize = 'x-large')\n",
    "    plt.show()\n",
    "visualize_training(history)"
   ]
  },
  {
   "cell_type": "code",
   "execution_count": 6,
   "metadata": {},
   "outputs": [],
   "source": [
    "# Save the model to disk\n",
    "model.save('saved_model')"
   ]
  },
  {
   "cell_type": "markdown",
   "metadata": {},
   "source": [
    "# Predictions and Classification Report"
   ]
  },
  {
   "cell_type": "code",
   "execution_count": 7,
   "metadata": {},
   "outputs": [
    {
     "data": {
      "text/plain": [
       "array([[4.2310869e-03, 9.9576890e-01],\n",
       "       [1.9175723e-01, 8.0824280e-01],\n",
       "       [7.9631853e-01, 2.0368151e-01],\n",
       "       [9.1458037e-03, 9.9085414e-01],\n",
       "       [4.2477361e-04, 9.9957520e-01],\n",
       "       [4.0718061e-03, 9.9592823e-01]], dtype=float32)"
      ]
     },
     "execution_count": 7,
     "metadata": {},
     "output_type": "execute_result"
    }
   ],
   "source": [
    "from sklearn.metrics import confusion_matrix, classification_report, roc_auc_score\n",
    "\n",
    "predictions = model.predict(validation_dataset)\n",
    "predictions[0:6]"
   ]
  },
  {
   "cell_type": "code",
   "execution_count": 8,
   "metadata": {},
   "outputs": [
    {
     "data": {
      "text/plain": [
       "array([1, 1, 0, 1, 1, 1, 0, 0, 0, 0, 0, 0, 0, 0, 0, 0, 1, 1, 0, 0, 1, 0,\n",
       "       0, 1, 0, 0, 1, 1, 1, 1, 1, 1, 1, 0, 0, 1, 0, 0, 0, 0, 1, 0, 0, 0,\n",
       "       0, 0, 1, 1, 0, 1, 1, 1, 0, 1, 0, 1, 1, 0, 0, 0, 0, 1, 1, 1, 1, 1,\n",
       "       1, 1, 0, 1, 1, 0, 1, 0, 1, 0, 1, 1, 0, 1, 0, 1, 1, 1, 1, 1, 1, 0,\n",
       "       0, 1, 0, 0, 1, 0, 1, 0, 0, 0, 0, 0, 1, 1, 1, 0, 1, 0, 1, 0],\n",
       "      dtype=int64)"
      ]
     },
     "execution_count": 8,
     "metadata": {},
     "output_type": "execute_result"
    }
   ],
   "source": [
    "predicted_class_indices=np.argmax(predictions,axis=1)\n",
    "predicted_class_indices"
   ]
  },
  {
   "cell_type": "code",
   "execution_count": null,
   "metadata": {},
   "outputs": [],
   "source": []
  }
 ],
 "metadata": {
  "kernelspec": {
   "display_name": "Python 3",
   "language": "python",
   "name": "python3"
  },
  "language_info": {
   "codemirror_mode": {
    "name": "ipython",
    "version": 3
   },
   "file_extension": ".py",
   "mimetype": "text/x-python",
   "name": "python",
   "nbconvert_exporter": "python",
   "pygments_lexer": "ipython3",
   "version": "3.7.6"
  }
 },
 "nbformat": 4,
 "nbformat_minor": 4
}
