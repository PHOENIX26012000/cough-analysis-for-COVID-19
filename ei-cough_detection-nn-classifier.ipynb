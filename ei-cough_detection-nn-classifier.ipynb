{
 "cells": [
  {
   "cell_type": "markdown",
   "metadata": {},
   "source": [
    "Import the data from Edge Impulse. You can obtain the URL from the Dashboard, right-click on the download icon next to 'Spectral features data' and 'Spectral features labels', and click **Copy link location**."
   ]
  },
  {
   "cell_type": "code",
   "execution_count": 1,
   "metadata": {},
   "outputs": [],
   "source": [
    "import numpy as np\n",
    "import requests\n",
    "\n",
    "API_KEY = 'ei_a4a199d2c331dd57709baf622fca6b83528f34504943bad629b613d38a1e4b17'\n",
    "\n",
    "X = (requests.get('https://studio.edgeimpulse.com/v1/api/3973/training/7/x', headers={'x-api-key': API_KEY})).content\n",
    "Y = (requests.get('https://studio.edgeimpulse.com/v1/api/3973/training/7/y', headers={'x-api-key': API_KEY})).content"
   ]
  },
  {
   "cell_type": "markdown",
   "metadata": {},
   "source": [
    "Store the data in a temporary file, and load it back through Numpy."
   ]
  },
  {
   "cell_type": "code",
   "execution_count": 2,
   "metadata": {},
   "outputs": [],
   "source": [
    "with open('x_train.npy', 'wb') as file:\n",
    "    file.write(X)\n",
    "with open('y_train.npy', 'wb') as file:\n",
    "    file.write(Y)\n",
    "X = np.load('x_train.npy')\n",
    "Y = np.load('y_train.npy')[:,0]"
   ]
  },
  {
   "cell_type": "markdown",
   "metadata": {},
   "source": [
    "Define our labels and split the data up in a test and training set:"
   ]
  },
  {
   "cell_type": "code",
   "execution_count": 2,
   "metadata": {},
   "outputs": [
    {
     "name": "stderr",
     "output_type": "stream",
     "text": [
      "/home/antpc/.local/lib/python3.6/site-packages/tensorflow/python/framework/dtypes.py:516: FutureWarning: Passing (type, 1) or '1type' as a synonym of type is deprecated; in a future version of numpy, it will be understood as (type, (1,)) / '(1,)type'.\n",
      "  _np_qint8 = np.dtype([(\"qint8\", np.int8, 1)])\n",
      "/home/antpc/.local/lib/python3.6/site-packages/tensorflow/python/framework/dtypes.py:517: FutureWarning: Passing (type, 1) or '1type' as a synonym of type is deprecated; in a future version of numpy, it will be understood as (type, (1,)) / '(1,)type'.\n",
      "  _np_quint8 = np.dtype([(\"quint8\", np.uint8, 1)])\n",
      "/home/antpc/.local/lib/python3.6/site-packages/tensorflow/python/framework/dtypes.py:518: FutureWarning: Passing (type, 1) or '1type' as a synonym of type is deprecated; in a future version of numpy, it will be understood as (type, (1,)) / '(1,)type'.\n",
      "  _np_qint16 = np.dtype([(\"qint16\", np.int16, 1)])\n",
      "/home/antpc/.local/lib/python3.6/site-packages/tensorflow/python/framework/dtypes.py:519: FutureWarning: Passing (type, 1) or '1type' as a synonym of type is deprecated; in a future version of numpy, it will be understood as (type, (1,)) / '(1,)type'.\n",
      "  _np_quint16 = np.dtype([(\"quint16\", np.uint16, 1)])\n",
      "/home/antpc/.local/lib/python3.6/site-packages/tensorflow/python/framework/dtypes.py:520: FutureWarning: Passing (type, 1) or '1type' as a synonym of type is deprecated; in a future version of numpy, it will be understood as (type, (1,)) / '(1,)type'.\n",
      "  _np_qint32 = np.dtype([(\"qint32\", np.int32, 1)])\n",
      "/home/antpc/.local/lib/python3.6/site-packages/tensorflow/python/framework/dtypes.py:525: FutureWarning: Passing (type, 1) or '1type' as a synonym of type is deprecated; in a future version of numpy, it will be understood as (type, (1,)) / '(1,)type'.\n",
      "  np_resource = np.dtype([(\"resource\", np.ubyte, 1)])\n",
      "/home/antpc/.local/lib/python3.6/site-packages/tensorboard/compat/tensorflow_stub/dtypes.py:541: FutureWarning: Passing (type, 1) or '1type' as a synonym of type is deprecated; in a future version of numpy, it will be understood as (type, (1,)) / '(1,)type'.\n",
      "  _np_qint8 = np.dtype([(\"qint8\", np.int8, 1)])\n",
      "/home/antpc/.local/lib/python3.6/site-packages/tensorboard/compat/tensorflow_stub/dtypes.py:542: FutureWarning: Passing (type, 1) or '1type' as a synonym of type is deprecated; in a future version of numpy, it will be understood as (type, (1,)) / '(1,)type'.\n",
      "  _np_quint8 = np.dtype([(\"quint8\", np.uint8, 1)])\n",
      "/home/antpc/.local/lib/python3.6/site-packages/tensorboard/compat/tensorflow_stub/dtypes.py:543: FutureWarning: Passing (type, 1) or '1type' as a synonym of type is deprecated; in a future version of numpy, it will be understood as (type, (1,)) / '(1,)type'.\n",
      "  _np_qint16 = np.dtype([(\"qint16\", np.int16, 1)])\n",
      "/home/antpc/.local/lib/python3.6/site-packages/tensorboard/compat/tensorflow_stub/dtypes.py:544: FutureWarning: Passing (type, 1) or '1type' as a synonym of type is deprecated; in a future version of numpy, it will be understood as (type, (1,)) / '(1,)type'.\n",
      "  _np_quint16 = np.dtype([(\"quint16\", np.uint16, 1)])\n",
      "/home/antpc/.local/lib/python3.6/site-packages/tensorboard/compat/tensorflow_stub/dtypes.py:545: FutureWarning: Passing (type, 1) or '1type' as a synonym of type is deprecated; in a future version of numpy, it will be understood as (type, (1,)) / '(1,)type'.\n",
      "  _np_qint32 = np.dtype([(\"qint32\", np.int32, 1)])\n",
      "/home/antpc/.local/lib/python3.6/site-packages/tensorboard/compat/tensorflow_stub/dtypes.py:550: FutureWarning: Passing (type, 1) or '1type' as a synonym of type is deprecated; in a future version of numpy, it will be understood as (type, (1,)) / '(1,)type'.\n",
      "  np_resource = np.dtype([(\"resource\", np.ubyte, 1)])\n"
     ]
    },
    {
     "ename": "AttributeError",
     "evalue": "module 'tensorflow._api.v2.random' has no attribute 'set_random_seed'",
     "output_type": "error",
     "traceback": [
      "\u001b[0;31m---------------------------------------------------------------------------\u001b[0m",
      "\u001b[0;31mAttributeError\u001b[0m                            Traceback (most recent call last)",
      "\u001b[0;32m<ipython-input-2-ae431bc148c3>\u001b[0m in \u001b[0;36m<module>\u001b[0;34m\u001b[0m\n\u001b[1;32m     11\u001b[0m \u001b[0mrandom\u001b[0m\u001b[0;34m.\u001b[0m\u001b[0mseed\u001b[0m\u001b[0;34m(\u001b[0m\u001b[0mRANDOM_SEED\u001b[0m\u001b[0;34m)\u001b[0m\u001b[0;34m\u001b[0m\u001b[0;34m\u001b[0m\u001b[0m\n\u001b[1;32m     12\u001b[0m \u001b[0mnp\u001b[0m\u001b[0;34m.\u001b[0m\u001b[0mrandom\u001b[0m\u001b[0;34m.\u001b[0m\u001b[0mseed\u001b[0m\u001b[0;34m(\u001b[0m\u001b[0mRANDOM_SEED\u001b[0m\u001b[0;34m)\u001b[0m\u001b[0;34m\u001b[0m\u001b[0;34m\u001b[0m\u001b[0m\n\u001b[0;32m---> 13\u001b[0;31m \u001b[0mtf\u001b[0m\u001b[0;34m.\u001b[0m\u001b[0mrandom\u001b[0m\u001b[0;34m.\u001b[0m\u001b[0mset_random_seed\u001b[0m\u001b[0;34m(\u001b[0m\u001b[0mRANDOM_SEED\u001b[0m\u001b[0;34m)\u001b[0m\u001b[0;34m\u001b[0m\u001b[0;34m\u001b[0m\u001b[0m\n\u001b[0m\u001b[1;32m     14\u001b[0m \u001b[0;34m\u001b[0m\u001b[0m\n\u001b[1;32m     15\u001b[0m \u001b[0mclasses_values\u001b[0m \u001b[0;34m=\u001b[0m \u001b[0;34m[\u001b[0m \u001b[0;34m\"cough\"\u001b[0m\u001b[0;34m,\u001b[0m \u001b[0;34m\"no_cough\"\u001b[0m \u001b[0;34m]\u001b[0m\u001b[0;34m\u001b[0m\u001b[0;34m\u001b[0m\u001b[0m\n",
      "\u001b[0;31mAttributeError\u001b[0m: module 'tensorflow._api.v2.random' has no attribute 'set_random_seed'"
     ]
    }
   ],
   "source": [
    "import sys, os, random\n",
    "import tensorflow as tf\n",
    "from sklearn.model_selection import train_test_split\n",
    "\n",
    "import logging\n",
    "tf.get_logger().setLevel(logging.ERROR)\n",
    "os.environ['TF_CPP_MIN_LOG_LEVEL'] = '2'\n",
    "\n",
    "# Set random seeds for repeatable results\n",
    "RANDOM_SEED = 3\n",
    "random.seed(RANDOM_SEED)\n",
    "np.random.seed(RANDOM_SEED)\n",
    "tf.random.set_random_seed(RANDOM_SEED)\n",
    "\n",
    "classes_values = [ \"cough\", \"no_cough\" ]\n",
    "classes = len(classes_values)\n",
    "\n",
    "Y = tf.keras.utils.to_categorical(Y - 1, classes)\n",
    "\n",
    "X_train, X_test, Y_train, Y_test = train_test_split(X, Y, test_size=0.15, random_state=1)\n",
    "\n",
    "input_length = X_train[0].shape[0]\n",
    "\n",
    "train_dataset = tf.data.Dataset.from_tensor_slices((X_train, Y_train))\n",
    "validation_dataset = tf.data.Dataset.from_tensor_slices((X_test, Y_test))\n",
    "\n",
    "def set_batch_size(batch_size, train_dataset, validation_dataset):\n",
    "    shuffle_buffer_size = batch_size * 3\n",
    "    train_dataset = train_dataset.shuffle(shuffle_buffer_size).batch(batch_size, drop_remainder=True).prefetch(1)\n",
    "    validation_dataset = validation_dataset.shuffle(shuffle_buffer_size).batch(batch_size, drop_remainder=True).prefetch(1)\n",
    "    return train_dataset, validation_dataset\n",
    "\n",
    "callbacks = tf.keras.callbacks.EarlyStopping(monitor='val_loss', patience = 5)\n"
   ]
  },
  {
   "cell_type": "markdown",
   "metadata": {},
   "source": [
    "# Train the model"
   ]
  },
  {
   "cell_type": "code",
   "execution_count": 4,
   "metadata": {},
   "outputs": [
    {
     "name": "stdout",
     "output_type": "stream",
     "text": [
      "Epoch 1/200\n",
      "550/550 - 1s - loss: 0.7564 - acc: 0.4418 - val_loss: 0.6878 - val_acc: 0.5000\n",
      "Epoch 2/200\n",
      "550/550 - 1s - loss: 0.6433 - acc: 0.5709 - val_loss: 0.6501 - val_acc: 0.5306\n",
      "Epoch 3/200\n",
      "550/550 - 1s - loss: 0.6092 - acc: 0.6964 - val_loss: 0.6205 - val_acc: 0.7449\n",
      "Epoch 4/200\n",
      "550/550 - 1s - loss: 0.5816 - acc: 0.7345 - val_loss: 0.5992 - val_acc: 0.7449\n",
      "Epoch 5/200\n",
      "550/550 - 1s - loss: 0.5582 - acc: 0.7509 - val_loss: 0.5818 - val_acc: 0.7653\n",
      "Epoch 6/200\n",
      "550/550 - 1s - loss: 0.5361 - acc: 0.7745 - val_loss: 0.5644 - val_acc: 0.7857\n",
      "Epoch 7/200\n",
      "550/550 - 1s - loss: 0.5155 - acc: 0.7855 - val_loss: 0.5501 - val_acc: 0.7857\n",
      "Epoch 8/200\n",
      "550/550 - 1s - loss: 0.4960 - acc: 0.8018 - val_loss: 0.5369 - val_acc: 0.7959\n",
      "Epoch 9/200\n",
      "550/550 - 1s - loss: 0.4771 - acc: 0.8127 - val_loss: 0.5244 - val_acc: 0.7959\n",
      "Epoch 10/200\n",
      "550/550 - 1s - loss: 0.4586 - acc: 0.8309 - val_loss: 0.5126 - val_acc: 0.7959\n",
      "Epoch 11/200\n",
      "550/550 - 1s - loss: 0.4410 - acc: 0.8418 - val_loss: 0.5011 - val_acc: 0.8265\n",
      "Epoch 12/200\n",
      "550/550 - 1s - loss: 0.4241 - acc: 0.8455 - val_loss: 0.4908 - val_acc: 0.8265\n",
      "Epoch 13/200\n",
      "550/550 - 1s - loss: 0.4079 - acc: 0.8564 - val_loss: 0.4814 - val_acc: 0.8469\n",
      "Epoch 14/200\n",
      "550/550 - 1s - loss: 0.3919 - acc: 0.8636 - val_loss: 0.4732 - val_acc: 0.8469\n",
      "Epoch 15/200\n",
      "550/550 - 1s - loss: 0.3767 - acc: 0.8727 - val_loss: 0.4646 - val_acc: 0.8469\n",
      "Epoch 16/200\n",
      "550/550 - 1s - loss: 0.3618 - acc: 0.8782 - val_loss: 0.4571 - val_acc: 0.8469\n",
      "Epoch 17/200\n",
      "550/550 - 1s - loss: 0.3477 - acc: 0.8836 - val_loss: 0.4490 - val_acc: 0.8367\n",
      "Epoch 18/200\n",
      "550/550 - 1s - loss: 0.3344 - acc: 0.8855 - val_loss: 0.4410 - val_acc: 0.8469\n",
      "Epoch 19/200\n",
      "550/550 - 1s - loss: 0.3210 - acc: 0.8909 - val_loss: 0.4334 - val_acc: 0.8469\n",
      "Epoch 20/200\n",
      "550/550 - 1s - loss: 0.3081 - acc: 0.8964 - val_loss: 0.4253 - val_acc: 0.8469\n",
      "Epoch 21/200\n",
      "550/550 - 1s - loss: 0.2960 - acc: 0.9018 - val_loss: 0.4178 - val_acc: 0.8571\n",
      "Epoch 22/200\n",
      "550/550 - 1s - loss: 0.2844 - acc: 0.9109 - val_loss: 0.4108 - val_acc: 0.8673\n",
      "Epoch 23/200\n",
      "550/550 - 1s - loss: 0.2732 - acc: 0.9127 - val_loss: 0.4041 - val_acc: 0.8673\n",
      "Epoch 24/200\n",
      "550/550 - 1s - loss: 0.2627 - acc: 0.9200 - val_loss: 0.3979 - val_acc: 0.8673\n",
      "Epoch 25/200\n",
      "550/550 - 1s - loss: 0.2525 - acc: 0.9236 - val_loss: 0.3913 - val_acc: 0.8673\n",
      "Epoch 26/200\n",
      "550/550 - 1s - loss: 0.2429 - acc: 0.9291 - val_loss: 0.3860 - val_acc: 0.8673\n",
      "Epoch 27/200\n",
      "550/550 - 1s - loss: 0.2338 - acc: 0.9327 - val_loss: 0.3806 - val_acc: 0.8673\n",
      "Epoch 28/200\n",
      "550/550 - 1s - loss: 0.2252 - acc: 0.9364 - val_loss: 0.3768 - val_acc: 0.8673\n",
      "Epoch 29/200\n",
      "550/550 - 1s - loss: 0.2173 - acc: 0.9382 - val_loss: 0.3727 - val_acc: 0.8776\n",
      "Epoch 30/200\n",
      "550/550 - 1s - loss: 0.2095 - acc: 0.9382 - val_loss: 0.3694 - val_acc: 0.8776\n",
      "Epoch 31/200\n",
      "550/550 - 1s - loss: 0.2023 - acc: 0.9455 - val_loss: 0.3656 - val_acc: 0.8776\n",
      "Epoch 32/200\n",
      "550/550 - 1s - loss: 0.1954 - acc: 0.9473 - val_loss: 0.3633 - val_acc: 0.8776\n",
      "Epoch 33/200\n",
      "550/550 - 1s - loss: 0.1891 - acc: 0.9491 - val_loss: 0.3604 - val_acc: 0.8878\n",
      "Epoch 34/200\n",
      "550/550 - 1s - loss: 0.1831 - acc: 0.9491 - val_loss: 0.3583 - val_acc: 0.8878\n",
      "Epoch 35/200\n",
      "550/550 - 1s - loss: 0.1776 - acc: 0.9491 - val_loss: 0.3560 - val_acc: 0.8878\n",
      "Epoch 36/200\n",
      "550/550 - 1s - loss: 0.1724 - acc: 0.9509 - val_loss: 0.3545 - val_acc: 0.8878\n",
      "Epoch 37/200\n",
      "550/550 - 1s - loss: 0.1675 - acc: 0.9509 - val_loss: 0.3537 - val_acc: 0.8878\n",
      "Epoch 38/200\n",
      "550/550 - 1s - loss: 0.1628 - acc: 0.9509 - val_loss: 0.3524 - val_acc: 0.8878\n",
      "Epoch 39/200\n",
      "550/550 - 1s - loss: 0.1584 - acc: 0.9509 - val_loss: 0.3510 - val_acc: 0.8878\n",
      "Epoch 40/200\n",
      "550/550 - 1s - loss: 0.1543 - acc: 0.9509 - val_loss: 0.3502 - val_acc: 0.8878\n",
      "Epoch 41/200\n",
      "550/550 - 1s - loss: 0.1504 - acc: 0.9509 - val_loss: 0.3491 - val_acc: 0.8878\n",
      "Epoch 42/200\n",
      "550/550 - 1s - loss: 0.1468 - acc: 0.9509 - val_loss: 0.3484 - val_acc: 0.8878\n",
      "Epoch 43/200\n",
      "550/550 - 1s - loss: 0.1434 - acc: 0.9527 - val_loss: 0.3479 - val_acc: 0.8878\n",
      "Epoch 44/200\n",
      "550/550 - 1s - loss: 0.1402 - acc: 0.9527 - val_loss: 0.3475 - val_acc: 0.8878\n",
      "Epoch 45/200\n",
      "550/550 - 1s - loss: 0.1373 - acc: 0.9527 - val_loss: 0.3473 - val_acc: 0.8878\n",
      "Epoch 46/200\n",
      "550/550 - 1s - loss: 0.1346 - acc: 0.9527 - val_loss: 0.3470 - val_acc: 0.8878\n",
      "Epoch 47/200\n",
      "550/550 - 1s - loss: 0.1319 - acc: 0.9527 - val_loss: 0.3467 - val_acc: 0.8878\n",
      "Epoch 48/200\n",
      "550/550 - 1s - loss: 0.1295 - acc: 0.9527 - val_loss: 0.3474 - val_acc: 0.8878\n",
      "Epoch 49/200\n",
      "550/550 - 1s - loss: 0.1270 - acc: 0.9527 - val_loss: 0.3479 - val_acc: 0.8878\n",
      "Epoch 50/200\n",
      "550/550 - 1s - loss: 0.1248 - acc: 0.9527 - val_loss: 0.3477 - val_acc: 0.8878\n",
      "Epoch 51/200\n",
      "550/550 - 1s - loss: 0.1229 - acc: 0.9545 - val_loss: 0.3486 - val_acc: 0.8878\n",
      "Epoch 52/200\n",
      "550/550 - 1s - loss: 0.1210 - acc: 0.9545 - val_loss: 0.3494 - val_acc: 0.8878\n"
     ]
    }
   ],
   "source": [
    "import tensorflow as tf\n",
    "from tensorflow.keras.models import Sequential\n",
    "from tensorflow.keras.layers import Dense, InputLayer, Dropout, Conv1D, Conv2D, Flatten, Reshape, MaxPooling1D, AveragePooling2D, BatchNormalization\n",
    "from tensorflow.keras.optimizers import Adam\n",
    "\n",
    "# model architecture\n",
    "model = Sequential()\n",
    "model.add(InputLayer(input_shape=(input_length, ), name='x_input'))\n",
    "model.add(Reshape((int(input_length / 13), 13), input_shape=(input_length, )))\n",
    "model.add(Conv1D(30, kernel_size=5, activation='relu'))\n",
    "model.add(MaxPooling1D(pool_size=5, padding='same'))\n",
    "model.add(Conv1D(10, kernel_size=5, activation='relu'))\n",
    "model.add(MaxPooling1D(pool_size=5, padding='same'))\n",
    "model.add(Flatten())\n",
    "model.add(Dense(classes, activation='softmax', name='y_pred'))\n",
    "\n",
    "# this controls the learning rate\n",
    "opt = Adam(lr=0.00005, beta_1=0.9, beta_2=0.999)\n",
    "\n",
    "# this controls the batch size, or you can manipulate the tf.data.Dataset objects yourself\n",
    "BATCH_SIZE = 1\n",
    "train_dataset, validation_dataset = set_batch_size(BATCH_SIZE, train_dataset, validation_dataset)\n",
    "\n",
    "# train the neural network\n",
    "model.compile(loss='categorical_crossentropy', optimizer=opt, metrics=['accuracy'])\n",
    "history = model.fit(train_dataset, epochs=200, validation_data=validation_dataset, verbose=2, callbacks=[callbacks])\n"
   ]
  },
  {
   "cell_type": "markdown",
   "metadata": {},
   "source": [
    "# Visualizations"
   ]
  },
  {
   "cell_type": "code",
   "execution_count": 5,
   "metadata": {},
   "outputs": [
    {
     "data": {
      "image/png": "[encoded data removed]",
      "text/plain": [
       "<Figure size 720x432 with 1 Axes>"
      ]
     },
     "metadata": {
      "needs_background": "light"
     },
     "output_type": "display_data"
    },
    {
     "data": {
      "image/png": "[encoded data removed]",
      "text/plain": [
       "<Figure size 720x432 with 1 Axes>"
      ]
     },
     "metadata": {
      "needs_background": "light"
     },
     "output_type": "display_data"
    }
   ],
   "source": [
    "import matplotlib.pyplot as plt\n",
    "def visualize_training(history, lw = 3):\n",
    "    plt.figure(figsize=(10,6))\n",
    "    plt.plot(history.history['acc'], label = 'training', marker = '*', linewidth = lw)\n",
    "    plt.plot(history.history['val_acc'], label = 'validation', marker = 'o', linewidth = lw)\n",
    "    plt.title('Training Accuracy vs Validation Accuracy')\n",
    "    plt.xlabel('Epochs')\n",
    "    plt.ylabel('Accuracy')\n",
    "    plt.legend(fontsize = 'x-large')\n",
    "    plt.show()\n",
    "\n",
    "    plt.figure(figsize=(10,6))\n",
    "    plt.plot(history.history['loss'], label = 'training', marker = '*', linewidth = lw)\n",
    "    plt.plot(history.history['val_loss'], label = 'validation', marker = 'o', linewidth = lw)\n",
    "    plt.title('Training Loss vs Validation Loss')\n",
    "    plt.xlabel('Epochs')\n",
    "    plt.ylabel('Loss')\n",
    "    plt.legend(fontsize = 'x-large')\n",
    "    plt.show()\n",
    "visualize_training(history)"
   ]
  },
  {
   "cell_type": "code",
   "execution_count": 6,
   "metadata": {},
   "outputs": [],
   "source": [
    "# Save the model to disk\n",
    "model.save('saved_model')"
   ]
  },
  {
   "cell_type": "code",
   "execution_count": 3,
   "metadata": {},
   "outputs": [
    {
     "ename": "OSError",
     "evalue": "SavedModel file does not exist at: /home/antpc/cough_detection/codes/saved_model/{saved_model.pbtxt|saved_model.pb}",
     "output_type": "error",
     "traceback": [
      "\u001b[0;31m---------------------------------------------------------------------------\u001b[0m",
      "\u001b[0;31mOSError\u001b[0m                                   Traceback (most recent call last)",
      "\u001b[0;32m<ipython-input-3-875c78e89d14>\u001b[0m in \u001b[0;36m<module>\u001b[0;34m\u001b[0m\n\u001b[0;32m----> 1\u001b[0;31m \u001b[0mconverter\u001b[0m \u001b[0;34m=\u001b[0m \u001b[0mtf\u001b[0m\u001b[0;34m.\u001b[0m\u001b[0mlite\u001b[0m\u001b[0;34m.\u001b[0m\u001b[0mTFLiteConverter\u001b[0m\u001b[0;34m.\u001b[0m\u001b[0mfrom_saved_model\u001b[0m\u001b[0;34m(\u001b[0m\u001b[0;34m\"/home/antpc/cough_detection/codes/saved_model\"\u001b[0m\u001b[0;34m)\u001b[0m\u001b[0;34m\u001b[0m\u001b[0;34m\u001b[0m\u001b[0m\n\u001b[0m\u001b[1;32m      2\u001b[0m \u001b[0mconverter\u001b[0m\u001b[0;34m.\u001b[0m\u001b[0moptimizations\u001b[0m \u001b[0;34m=\u001b[0m \u001b[0;34m[\u001b[0m\u001b[0mtf\u001b[0m\u001b[0;34m.\u001b[0m\u001b[0mlite\u001b[0m\u001b[0;34m.\u001b[0m\u001b[0mOptimize\u001b[0m\u001b[0;34m.\u001b[0m\u001b[0mDEFAULT\u001b[0m\u001b[0;34m]\u001b[0m\u001b[0;34m\u001b[0m\u001b[0;34m\u001b[0m\u001b[0m\n\u001b[1;32m      3\u001b[0m \u001b[0mquantized_model\u001b[0m \u001b[0;34m=\u001b[0m \u001b[0mconverter\u001b[0m\u001b[0;34m.\u001b[0m\u001b[0mconvert\u001b[0m\u001b[0;34m(\u001b[0m\u001b[0;34m)\u001b[0m\u001b[0;34m\u001b[0m\u001b[0;34m\u001b[0m\u001b[0m\n\u001b[1;32m      4\u001b[0m \u001b[0mopen\u001b[0m\u001b[0;34m(\u001b[0m\u001b[0;34m\"converted_model.tflite\"\u001b[0m\u001b[0;34m,\u001b[0m \u001b[0;34m\"wb\"\u001b[0m\u001b[0;34m)\u001b[0m\u001b[0;34m.\u001b[0m\u001b[0mwrite\u001b[0m\u001b[0;34m(\u001b[0m\u001b[0mquantized_model\u001b[0m\u001b[0;34m)\u001b[0m\u001b[0;34m\u001b[0m\u001b[0;34m\u001b[0m\u001b[0m\n",
      "\u001b[0;32m~/.local/lib/python3.6/site-packages/tensorflow/lite/python/lite.py\u001b[0m in \u001b[0;36mfrom_saved_model\u001b[0;34m(cls, saved_model_dir, signature_keys, tags)\u001b[0m\n\u001b[1;32m    299\u001b[0m     \u001b[0;31m# in order to create a tf.estimator.Exporter that exports a TFLite model.\u001b[0m\u001b[0;34m\u001b[0m\u001b[0;34m\u001b[0m\u001b[0;34m\u001b[0m\u001b[0m\n\u001b[1;32m    300\u001b[0m     \u001b[0;32mwith\u001b[0m \u001b[0mcontext\u001b[0m\u001b[0;34m.\u001b[0m\u001b[0meager_mode\u001b[0m\u001b[0;34m(\u001b[0m\u001b[0;34m)\u001b[0m\u001b[0;34m:\u001b[0m\u001b[0;34m\u001b[0m\u001b[0;34m\u001b[0m\u001b[0m\n\u001b[0;32m--> 301\u001b[0;31m       \u001b[0msaved_model\u001b[0m \u001b[0;34m=\u001b[0m \u001b[0m_load\u001b[0m\u001b[0;34m(\u001b[0m\u001b[0msaved_model_dir\u001b[0m\u001b[0;34m,\u001b[0m \u001b[0mtags\u001b[0m\u001b[0;34m)\u001b[0m\u001b[0;34m\u001b[0m\u001b[0;34m\u001b[0m\u001b[0m\n\u001b[0m\u001b[1;32m    302\u001b[0m     \u001b[0;32mif\u001b[0m \u001b[0;32mnot\u001b[0m \u001b[0msignature_keys\u001b[0m\u001b[0;34m:\u001b[0m\u001b[0;34m\u001b[0m\u001b[0;34m\u001b[0m\u001b[0m\n\u001b[1;32m    303\u001b[0m       \u001b[0msignature_keys\u001b[0m \u001b[0;34m=\u001b[0m \u001b[0msaved_model\u001b[0m\u001b[0;34m.\u001b[0m\u001b[0msignatures\u001b[0m\u001b[0;34m\u001b[0m\u001b[0;34m\u001b[0m\u001b[0m\n",
      "\u001b[0;32m~/.local/lib/python3.6/site-packages/tensorflow/python/saved_model/load.py\u001b[0m in \u001b[0;36mload\u001b[0;34m(export_dir, tags)\u001b[0m\n\u001b[1;32m    406\u001b[0m     \u001b[0mValueError\u001b[0m\u001b[0;34m:\u001b[0m \u001b[0mIf\u001b[0m\u001b[0;31m \u001b[0m\u001b[0;31m`\u001b[0m\u001b[0mtags\u001b[0m\u001b[0;31m`\u001b[0m \u001b[0mdon\u001b[0m\u001b[0;31m'\u001b[0m\u001b[0mt\u001b[0m \u001b[0mmatch\u001b[0m \u001b[0ma\u001b[0m \u001b[0mMetaGraph\u001b[0m \u001b[0;32min\u001b[0m \u001b[0mthe\u001b[0m \u001b[0mSavedModel\u001b[0m\u001b[0;34m.\u001b[0m\u001b[0;34m\u001b[0m\u001b[0;34m\u001b[0m\u001b[0m\n\u001b[1;32m    407\u001b[0m   \"\"\"\n\u001b[0;32m--> 408\u001b[0;31m   \u001b[0;32mreturn\u001b[0m \u001b[0mload_internal\u001b[0m\u001b[0;34m(\u001b[0m\u001b[0mexport_dir\u001b[0m\u001b[0;34m,\u001b[0m \u001b[0mtags\u001b[0m\u001b[0;34m)\u001b[0m\u001b[0;34m\u001b[0m\u001b[0;34m\u001b[0m\u001b[0m\n\u001b[0m\u001b[1;32m    409\u001b[0m \u001b[0;34m\u001b[0m\u001b[0m\n\u001b[1;32m    410\u001b[0m \u001b[0;34m\u001b[0m\u001b[0m\n",
      "\u001b[0;32m~/.local/lib/python3.6/site-packages/tensorflow/python/saved_model/load.py\u001b[0m in \u001b[0;36mload_internal\u001b[0;34m(export_dir, tags, loader_cls)\u001b[0m\n\u001b[1;32m    415\u001b[0m     \u001b[0;31m# sequences for nest.flatten, so we put those through as-is.\u001b[0m\u001b[0;34m\u001b[0m\u001b[0;34m\u001b[0m\u001b[0;34m\u001b[0m\u001b[0m\n\u001b[1;32m    416\u001b[0m     \u001b[0mtags\u001b[0m \u001b[0;34m=\u001b[0m \u001b[0mnest\u001b[0m\u001b[0;34m.\u001b[0m\u001b[0mflatten\u001b[0m\u001b[0;34m(\u001b[0m\u001b[0mtags\u001b[0m\u001b[0;34m)\u001b[0m\u001b[0;34m\u001b[0m\u001b[0;34m\u001b[0m\u001b[0m\n\u001b[0;32m--> 417\u001b[0;31m   \u001b[0msaved_model_proto\u001b[0m \u001b[0;34m=\u001b[0m \u001b[0mloader_impl\u001b[0m\u001b[0;34m.\u001b[0m\u001b[0mparse_saved_model\u001b[0m\u001b[0;34m(\u001b[0m\u001b[0mexport_dir\u001b[0m\u001b[0;34m)\u001b[0m\u001b[0;34m\u001b[0m\u001b[0;34m\u001b[0m\u001b[0m\n\u001b[0m\u001b[1;32m    418\u001b[0m   if (len(saved_model_proto.meta_graphs) == 1\n\u001b[1;32m    419\u001b[0m       and saved_model_proto.meta_graphs[0].HasField(\"object_graph_def\")):\n",
      "\u001b[0;32m~/.local/lib/python3.6/site-packages/tensorflow/python/saved_model/loader_impl.py\u001b[0m in \u001b[0;36mparse_saved_model\u001b[0;34m(export_dir)\u001b[0m\n\u001b[1;32m     81\u001b[0m                   (export_dir,\n\u001b[1;32m     82\u001b[0m                    \u001b[0mconstants\u001b[0m\u001b[0;34m.\u001b[0m\u001b[0mSAVED_MODEL_FILENAME_PBTXT\u001b[0m\u001b[0;34m,\u001b[0m\u001b[0;34m\u001b[0m\u001b[0;34m\u001b[0m\u001b[0m\n\u001b[0;32m---> 83\u001b[0;31m                    constants.SAVED_MODEL_FILENAME_PB))\n\u001b[0m\u001b[1;32m     84\u001b[0m \u001b[0;34m\u001b[0m\u001b[0m\n\u001b[1;32m     85\u001b[0m \u001b[0;34m\u001b[0m\u001b[0m\n",
      "\u001b[0;31mOSError\u001b[0m: SavedModel file does not exist at: /home/antpc/cough_detection/codes/saved_model/{saved_model.pbtxt|saved_model.pb}"
     ]
    }
   ],
   "source": [
    "converter = tf.lite.TFLiteConverter.from_saved_model(\"/home/antpc/cough_detection/codes/saved_model\")\n",
    "converter.optimizations = [tf.lite.Optimize.DEFAULT]\n",
    "quantized_model = converter.convert()\n",
    "open(\"converted_model.tflite\", \"wb\").write(quantized_model)"
   ]
  },
  {
   "cell_type": "markdown",
   "metadata": {},
   "source": [
    "# Predictions and Classification Report"
   ]
  },
  {
   "cell_type": "code",
   "execution_count": 7,
   "metadata": {},
   "outputs": [
    {
     "data": {
      "text/plain": [
       "array([[7.4474949e-01, 2.5525051e-01],\n",
       "       [1.9062400e-02, 9.8093766e-01],\n",
       "       [9.9999249e-01, 7.4953518e-06],\n",
       "       [1.5068084e-02, 9.8493189e-01],\n",
       "       [9.9894162e-03, 9.9001056e-01],\n",
       "       [9.9995649e-01, 4.3548091e-05]], dtype=float32)"
      ]
     },
     "execution_count": 7,
     "metadata": {},
     "output_type": "execute_result"
    }
   ],
   "source": [
    "from sklearn.metrics import confusion_matrix, classification_report, roc_auc_score\n",
    "\n",
    "predictions = model.predict(validation_dataset)\n",
    "predictions[0:6]"
   ]
  },
  {
   "cell_type": "code",
   "execution_count": 8,
   "metadata": {},
   "outputs": [
    {
     "data": {
      "text/plain": [
       "array([0, 1, 0, 1, 1, 0, 0, 1, 0, 0, 1, 1, 1, 1, 1, 1, 1, 1, 1, 0, 1, 0,\n",
       "       0, 0, 0, 0, 1, 0, 1, 1, 1, 0, 0, 0, 1, 0, 1, 1, 0, 1, 1, 1, 0, 1,\n",
       "       1, 0, 0, 1, 0, 1, 0, 0, 1, 0, 0, 1, 1, 1, 0, 0, 0, 0, 1, 1, 0, 0,\n",
       "       0, 1, 1, 0, 1, 1, 0, 0, 1, 1, 1, 0, 1, 0, 1, 1, 0, 1, 1, 1, 1, 1,\n",
       "       0, 1, 1, 0, 0, 0, 0, 1, 0, 0], dtype=int64)"
      ]
     },
     "execution_count": 8,
     "metadata": {},
     "output_type": "execute_result"
    }
   ],
   "source": [
    "predicted_class_indices=np.argmax(predictions,axis=1)\n",
    "predicted_class_indices"
   ]
  },
  {
   "cell_type": "code",
   "execution_count": 9,
   "metadata": {},
   "outputs": [],
   "source": [
    "#label = validation_dataset.classes_values"
   ]
  },
  {
   "cell_type": "code",
   "execution_count": 10,
   "metadata": {},
   "outputs": [],
   "source": [
    "#arc = roc_auc_score(predicted_class_indices,model.Dense)\n",
    "#cf_matrix = confusion_matrix(predicted_class_indices,model)\n",
    "#cf_report = classification_report(predicted_class_indices,model)\n",
    "#print('Confusion matrix report of the model : \\n{}'.format(cf_matrix))"
   ]
  },
  {
   "cell_type": "code",
   "execution_count": null,
   "metadata": {},
   "outputs": [],
   "source": []
  }
 ],
 "metadata": {
  "kernelspec": {
   "display_name": "Python 3",
   "language": "python",
   "name": "python3"
  },
  "language_info": {
   "codemirror_mode": {
    "name": "ipython",
    "version": 3
   },
   "file_extension": ".py",
   "mimetype": "text/x-python",
   "name": "python",
   "nbconvert_exporter": "python",
   "pygments_lexer": "ipython3",
   "version": "3.6.9"
  }
 },
 "nbformat": 4,
 "nbformat_minor": 4
}
