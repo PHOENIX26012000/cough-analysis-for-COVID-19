{
 "cells": [
  {
   "cell_type": "code",
   "execution_count": 1,
   "metadata": {
    "_cell_guid": "b1076dfc-b9ad-4769-8c92-a6c4dae69d19",
    "_uuid": "8f2839f25d086af736a60e9eeb907d3b93b6e0e5"
   },
   "outputs": [],
   "source": [
    "# This Python 3 environment comes with many helpful analytics libraries installed\n",
    "# It is defined by the kaggle/python Docker image: https://github.com/kaggle/docker-python\n",
    "# For example, here's several helpful packages to load\n",
    "\n",
    "import numpy as np # linear algebra\n",
    "import pandas as pd # data processing, CSV file I/O (e.g. pd.read_csv)\n",
    "\n",
    "# Input data files are available in the read-only \"../input/\" directory\n",
    "# For example, running this (by clicking run or pressing Shift+Enter) will list all files under the input directory\n",
    "\n",
    "import os\n",
    "import tensorflow as tf\n",
    "from tensorflow import keras\n",
    "from tensorflow.keras.models import Sequential\n",
    "from tensorflow.keras.layers import Conv1D, Conv2D, MaxPooling2D, MaxPooling1D, Dense, Flatten, Dropout\n",
    "import matplotlib.pyplot as plt\n",
    "import seaborn as sns\n",
    "\n",
    "\n",
    "# You can write up to 5GB to the current directory (/kaggle/working/) that gets preserved as output when you create a version using \"Save & Run All\" \n",
    "# You can also write temporary files to /kaggle/temp/, but they won't be saved outside of the current session"
   ]
  },
  {
   "cell_type": "code",
   "execution_count": 2,
   "metadata": {
    "_cell_guid": "79c7e3d0-c299-4dcb-8224-4455121ee9b0",
    "_uuid": "d629ff2d2480ee46fbb7e2d37f6b5fab8052498a"
   },
   "outputs": [
    {
     "data": {
      "text/html": [
       "<div>\n",
       "<style scoped>\n",
       "    .dataframe tbody tr th:only-of-type {\n",
       "        vertical-align: middle;\n",
       "    }\n",
       "\n",
       "    .dataframe tbody tr th {\n",
       "        vertical-align: top;\n",
       "    }\n",
       "\n",
       "    .dataframe thead th {\n",
       "        text-align: right;\n",
       "    }\n",
       "</style>\n",
       "<table border=\"1\" class=\"dataframe\">\n",
       "  <thead>\n",
       "    <tr style=\"text-align: right;\">\n",
       "      <th></th>\n",
       "      <th>Patient number</th>\n",
       "      <th>Diagnosis</th>\n",
       "    </tr>\n",
       "  </thead>\n",
       "  <tbody>\n",
       "    <tr>\n",
       "      <th>0</th>\n",
       "      <td>101</td>\n",
       "      <td>URTI</td>\n",
       "    </tr>\n",
       "    <tr>\n",
       "      <th>1</th>\n",
       "      <td>102</td>\n",
       "      <td>Healthy</td>\n",
       "    </tr>\n",
       "    <tr>\n",
       "      <th>2</th>\n",
       "      <td>103</td>\n",
       "      <td>Asthma</td>\n",
       "    </tr>\n",
       "    <tr>\n",
       "      <th>3</th>\n",
       "      <td>104</td>\n",
       "      <td>COPD</td>\n",
       "    </tr>\n",
       "  </tbody>\n",
       "</table>\n",
       "</div>"
      ],
      "text/plain": [
       "   Patient number Diagnosis\n",
       "0             101      URTI\n",
       "1             102   Healthy\n",
       "2             103    Asthma\n",
       "3             104      COPD"
      ]
     },
     "execution_count": 2,
     "metadata": {},
     "output_type": "execute_result"
    }
   ],
   "source": [
    "diagnosis_df = pd.read_csv('../input/respiratory-sound-database/Respiratory_Sound_Database/Respiratory_Sound_Database/patient_diagnosis.csv', names=['Patient number', 'Diagnosis'])\n",
    "diagnosis_df.head(4)"
   ]
  },
  {
   "cell_type": "code",
   "execution_count": 3,
   "metadata": {},
   "outputs": [
    {
     "data": {
      "text/plain": [
       "<matplotlib.axes._subplots.AxesSubplot at 0x7fa6e59a17d0>"
      ]
     },
     "execution_count": 3,
     "metadata": {},
     "output_type": "execute_result"
    },
    {
     "data": {
      "image/png": "[encoded data removed]",
      "text/plain": [
       "<Figure size 720x360 with 1 Axes>"
      ]
     },
     "metadata": {
      "needs_background": "light"
     },
     "output_type": "display_data"
    }
   ],
   "source": [
    "plt.figure(figsize=(10,5))\n",
    "sns.countplot(diagnosis_df['Diagnosis'])"
   ]
  },
  {
   "cell_type": "code",
   "execution_count": 4,
   "metadata": {},
   "outputs": [
    {
     "data": {
      "text/html": [
       "<div>\n",
       "<style scoped>\n",
       "    .dataframe tbody tr th:only-of-type {\n",
       "        vertical-align: middle;\n",
       "    }\n",
       "\n",
       "    .dataframe tbody tr th {\n",
       "        vertical-align: top;\n",
       "    }\n",
       "\n",
       "    .dataframe thead th {\n",
       "        text-align: right;\n",
       "    }\n",
       "</style>\n",
       "<table border=\"1\" class=\"dataframe\">\n",
       "  <thead>\n",
       "    <tr style=\"text-align: right;\">\n",
       "      <th></th>\n",
       "      <th>Patient number</th>\n",
       "      <th>Age</th>\n",
       "      <th>Sex</th>\n",
       "      <th>Adult BMI (kg/m2)</th>\n",
       "      <th>Child Weight (kg)</th>\n",
       "      <th>Child Height (cm)</th>\n",
       "    </tr>\n",
       "  </thead>\n",
       "  <tbody>\n",
       "    <tr>\n",
       "      <th>0</th>\n",
       "      <td>101</td>\n",
       "      <td>3.00</td>\n",
       "      <td>F</td>\n",
       "      <td>NaN</td>\n",
       "      <td>19.0</td>\n",
       "      <td>99.0</td>\n",
       "    </tr>\n",
       "    <tr>\n",
       "      <th>1</th>\n",
       "      <td>102</td>\n",
       "      <td>0.75</td>\n",
       "      <td>F</td>\n",
       "      <td>NaN</td>\n",
       "      <td>9.8</td>\n",
       "      <td>73.0</td>\n",
       "    </tr>\n",
       "    <tr>\n",
       "      <th>2</th>\n",
       "      <td>103</td>\n",
       "      <td>70.00</td>\n",
       "      <td>F</td>\n",
       "      <td>33.00</td>\n",
       "      <td>NaN</td>\n",
       "      <td>NaN</td>\n",
       "    </tr>\n",
       "    <tr>\n",
       "      <th>3</th>\n",
       "      <td>104</td>\n",
       "      <td>70.00</td>\n",
       "      <td>F</td>\n",
       "      <td>28.47</td>\n",
       "      <td>NaN</td>\n",
       "      <td>NaN</td>\n",
       "    </tr>\n",
       "    <tr>\n",
       "      <th>4</th>\n",
       "      <td>105</td>\n",
       "      <td>7.00</td>\n",
       "      <td>F</td>\n",
       "      <td>NaN</td>\n",
       "      <td>32.0</td>\n",
       "      <td>135.0</td>\n",
       "    </tr>\n",
       "  </tbody>\n",
       "</table>\n",
       "</div>"
      ],
      "text/plain": [
       "   Patient number    Age Sex  Adult BMI (kg/m2)  Child Weight (kg)  \\\n",
       "0             101   3.00   F                NaN               19.0   \n",
       "1             102   0.75   F                NaN                9.8   \n",
       "2             103  70.00   F              33.00                NaN   \n",
       "3             104  70.00   F              28.47                NaN   \n",
       "4             105   7.00   F                NaN               32.0   \n",
       "\n",
       "   Child Height (cm)  \n",
       "0               99.0  \n",
       "1               73.0  \n",
       "2                NaN  \n",
       "3                NaN  \n",
       "4              135.0  "
      ]
     },
     "execution_count": 4,
     "metadata": {},
     "output_type": "execute_result"
    }
   ],
   "source": [
    "df_no_diagnosis = pd.read_csv('../input/respiratory-sound-database/demographic_info.txt', names = \n",
    "                 ['Patient number', 'Age', 'Sex' , 'Adult BMI (kg/m2)', 'Child Weight (kg)' , 'Child Height (cm)'],\n",
    "                 delimiter = ' ')\n",
    "df_no_diagnosis.head(5)"
   ]
  },
  {
   "cell_type": "code",
   "execution_count": 5,
   "metadata": {},
   "outputs": [
    {
     "data": {
      "text/html": [
       "<div>\n",
       "<style scoped>\n",
       "    .dataframe tbody tr th:only-of-type {\n",
       "        vertical-align: middle;\n",
       "    }\n",
       "\n",
       "    .dataframe tbody tr th {\n",
       "        vertical-align: top;\n",
       "    }\n",
       "\n",
       "    .dataframe thead th {\n",
       "        text-align: right;\n",
       "    }\n",
       "</style>\n",
       "<table border=\"1\" class=\"dataframe\">\n",
       "  <thead>\n",
       "    <tr style=\"text-align: right;\">\n",
       "      <th></th>\n",
       "      <th>Patient number</th>\n",
       "      <th>Age</th>\n",
       "      <th>Sex</th>\n",
       "      <th>Adult BMI (kg/m2)</th>\n",
       "      <th>Child Weight (kg)</th>\n",
       "      <th>Child Height (cm)</th>\n",
       "      <th>Diagnosis</th>\n",
       "    </tr>\n",
       "  </thead>\n",
       "  <tbody>\n",
       "    <tr>\n",
       "      <th>0</th>\n",
       "      <td>101</td>\n",
       "      <td>3.00</td>\n",
       "      <td>F</td>\n",
       "      <td>NaN</td>\n",
       "      <td>19.0</td>\n",
       "      <td>99.0</td>\n",
       "      <td>URTI</td>\n",
       "    </tr>\n",
       "    <tr>\n",
       "      <th>1</th>\n",
       "      <td>102</td>\n",
       "      <td>0.75</td>\n",
       "      <td>F</td>\n",
       "      <td>NaN</td>\n",
       "      <td>9.8</td>\n",
       "      <td>73.0</td>\n",
       "      <td>Healthy</td>\n",
       "    </tr>\n",
       "    <tr>\n",
       "      <th>2</th>\n",
       "      <td>103</td>\n",
       "      <td>70.00</td>\n",
       "      <td>F</td>\n",
       "      <td>33.00</td>\n",
       "      <td>NaN</td>\n",
       "      <td>NaN</td>\n",
       "      <td>Asthma</td>\n",
       "    </tr>\n",
       "    <tr>\n",
       "      <th>3</th>\n",
       "      <td>104</td>\n",
       "      <td>70.00</td>\n",
       "      <td>F</td>\n",
       "      <td>28.47</td>\n",
       "      <td>NaN</td>\n",
       "      <td>NaN</td>\n",
       "      <td>COPD</td>\n",
       "    </tr>\n",
       "    <tr>\n",
       "      <th>4</th>\n",
       "      <td>105</td>\n",
       "      <td>7.00</td>\n",
       "      <td>F</td>\n",
       "      <td>NaN</td>\n",
       "      <td>32.0</td>\n",
       "      <td>135.0</td>\n",
       "      <td>URTI</td>\n",
       "    </tr>\n",
       "  </tbody>\n",
       "</table>\n",
       "</div>"
      ],
      "text/plain": [
       "   Patient number    Age Sex  Adult BMI (kg/m2)  Child Weight (kg)  \\\n",
       "0             101   3.00   F                NaN               19.0   \n",
       "1             102   0.75   F                NaN                9.8   \n",
       "2             103  70.00   F              33.00                NaN   \n",
       "3             104  70.00   F              28.47                NaN   \n",
       "4             105   7.00   F                NaN               32.0   \n",
       "\n",
       "   Child Height (cm) Diagnosis  \n",
       "0               99.0      URTI  \n",
       "1               73.0   Healthy  \n",
       "2                NaN    Asthma  \n",
       "3                NaN      COPD  \n",
       "4              135.0      URTI  "
      ]
     },
     "execution_count": 5,
     "metadata": {},
     "output_type": "execute_result"
    }
   ],
   "source": [
    "df =  df_no_diagnosis.join(diagnosis_df.set_index('Patient number'), on = 'Patient number', how = 'left')\n",
    "df.head(5)"
   ]
  },
  {
   "cell_type": "code",
   "execution_count": 6,
   "metadata": {},
   "outputs": [
    {
     "data": {
      "text/html": [
       "<div>\n",
       "<style scoped>\n",
       "    .dataframe tbody tr th:only-of-type {\n",
       "        vertical-align: middle;\n",
       "    }\n",
       "\n",
       "    .dataframe tbody tr th {\n",
       "        vertical-align: top;\n",
       "    }\n",
       "\n",
       "    .dataframe thead th {\n",
       "        text-align: right;\n",
       "    }\n",
       "</style>\n",
       "<table border=\"1\" class=\"dataframe\">\n",
       "  <thead>\n",
       "    <tr style=\"text-align: right;\">\n",
       "      <th></th>\n",
       "      <th>Patient number</th>\n",
       "      <th>Recording index</th>\n",
       "      <th>Chest location</th>\n",
       "      <th>Acquisition mode</th>\n",
       "      <th>Recording equipment</th>\n",
       "    </tr>\n",
       "  </thead>\n",
       "  <tbody>\n",
       "    <tr>\n",
       "      <th>0</th>\n",
       "      <td>162</td>\n",
       "      <td>2b2</td>\n",
       "      <td>Ar</td>\n",
       "      <td>mc</td>\n",
       "      <td>AKGC417L</td>\n",
       "    </tr>\n",
       "    <tr>\n",
       "      <th>0</th>\n",
       "      <td>110</td>\n",
       "      <td>1p1</td>\n",
       "      <td>Ll</td>\n",
       "      <td>sc</td>\n",
       "      <td>Meditron</td>\n",
       "    </tr>\n",
       "    <tr>\n",
       "      <th>0</th>\n",
       "      <td>219</td>\n",
       "      <td>2b2</td>\n",
       "      <td>Ar</td>\n",
       "      <td>mc</td>\n",
       "      <td>LittC2SE</td>\n",
       "    </tr>\n",
       "    <tr>\n",
       "      <th>0</th>\n",
       "      <td>167</td>\n",
       "      <td>1b1</td>\n",
       "      <td>Pr</td>\n",
       "      <td>sc</td>\n",
       "      <td>Meditron</td>\n",
       "    </tr>\n",
       "    <tr>\n",
       "      <th>0</th>\n",
       "      <td>209</td>\n",
       "      <td>1b1</td>\n",
       "      <td>Tc</td>\n",
       "      <td>sc</td>\n",
       "      <td>Meditron</td>\n",
       "    </tr>\n",
       "  </tbody>\n",
       "</table>\n",
       "</div>"
      ],
      "text/plain": [
       "  Patient number Recording index Chest location Acquisition mode  \\\n",
       "0            162             2b2             Ar               mc   \n",
       "0            110             1p1             Ll               sc   \n",
       "0            219             2b2             Ar               mc   \n",
       "0            167             1b1             Pr               sc   \n",
       "0            209             1b1             Tc               sc   \n",
       "\n",
       "  Recording equipment  \n",
       "0            AKGC417L  \n",
       "0            Meditron  \n",
       "0            LittC2SE  \n",
       "0            Meditron  \n",
       "0            Meditron  "
      ]
     },
     "execution_count": 6,
     "metadata": {},
     "output_type": "execute_result"
    }
   ],
   "source": [
    "root = '../input/respiratory-sound-database/Respiratory_Sound_Database/Respiratory_Sound_Database/audio_and_txt_files/'\n",
    "filenames = [s.split('.')[0] for s in os.listdir(path = root) if '.txt' in s]\n",
    "def Extract_Annotation_Data(file_name, root):\n",
    "    tokens = file_name.split('_')\n",
    "    recording_info = pd.DataFrame(data = [tokens], columns = ['Patient number', 'Recording index', 'Chest location','Acquisition mode','Recording equipment'])\n",
    "    recording_annotations = pd.read_csv(os.path.join(root, file_name + '.txt'), names = ['Start', 'End', 'Crackles', 'Wheezes'], delimiter= '\\t')\n",
    "    return (recording_info, recording_annotations)\n",
    "i_list = []\n",
    "rec_annotations = []\n",
    "rec_annotations_dict = {}\n",
    "for s in filenames:\n",
    "    (i,a) = Extract_Annotation_Data(s, root)\n",
    "    i_list.append(i)\n",
    "    rec_annotations.append(a)\n",
    "    rec_annotations_dict[s] = a\n",
    "recording_info = pd.concat(i_list, axis = 0)\n",
    "recording_info.head()"
   ]
  },
  {
   "cell_type": "code",
   "execution_count": 7,
   "metadata": {},
   "outputs": [],
   "source": [
    "class Diagnosis():\n",
    "    def __init__ (self, id, diagnosis, image_path):\n",
    "        self.id = id\n",
    "        self.diagnosis = diagnosis \n",
    "        self.image_path = image_path   "
   ]
  },
  {
   "cell_type": "code",
   "execution_count": 8,
   "metadata": {},
   "outputs": [],
   "source": [
    "def get_wav_files():\n",
    "    audio_path = '../input/respiratory-sound-database/Respiratory_Sound_Database/Respiratory_Sound_Database/audio_and_txt_files/'\n",
    "    files = [f for f in listdir(audio_path) if isfile(join(audio_path, f))]  #Gets all files in dir\n",
    "    wav_files = [f for f in files if f.endswith('.wav')]  # Gets wav files \n",
    "    wav_files = sorted(wav_files)\n",
    "    return wav_files, audio_path\n"
   ]
  },
  {
   "cell_type": "code",
   "execution_count": 9,
   "metadata": {},
   "outputs": [],
   "source": [
    "def diagnosis_data():\n",
    "    diagnosis = pd.read_csv('../input/respiratory-sound-database/Respiratory_Sound_Database/Respiratory_Sound_Database/patient_diagnosis.csv')\n",
    "  \n",
    "    wav_files, audio_path = get_wav_files()\n",
    "    diag_dict = { 101 : \"URTI\"}  \n",
    "    diagnosis_list = []\n",
    "  \n",
    "    for index , row in diagnosis.iterrows():\n",
    "        diag_dict[row[0]] = row[1]     \n",
    "\n",
    "    c = 0\n",
    "    for f in wav_files:\n",
    "        diagnosis_list.append(Diagnosis(c, diag_dict[int(f[:3])], audio_path+f))  \n",
    "        c+=1  \n",
    "\n",
    "    return diagnosis_list"
   ]
  },
  {
   "cell_type": "code",
   "execution_count": 10,
   "metadata": {},
   "outputs": [],
   "source": [
    "import librosa\n",
    "\n",
    "def audio_features(filename): \n",
    "    sound, sample_rate = librosa.load(filename)\n",
    "    stft = np.abs(librosa.stft(sound))  \n",
    " \n",
    "    mfccs = np.mean(librosa.feature.mfcc(y=sound, sr=sample_rate, n_mfcc=40),axis=1)\n",
    "    chroma = np.mean(librosa.feature.chroma_stft(S=stft, sr=sample_rate),axis=1)\n",
    "    mel = np.mean(librosa.feature.melspectrogram(sound, sr=sample_rate),axis=1)\n",
    "    contrast = np.mean(librosa.feature.spectral_contrast(S=stft, sr=sample_rate),axis=1)\n",
    "    tonnetz = np.mean(librosa.feature.tonnetz(y=librosa.effects.harmonic(sound), sr=sample_rate),axis=1)\n",
    "    \n",
    "    concat = np.concatenate((mfccs,chroma,mel,contrast,tonnetz))\n",
    "    return concat\n",
    "\n",
    "def data_points():\n",
    "    labels = []\n",
    "    images = []\n",
    "\n",
    "    to_hot_one = {\"COPD\":0, \"Healthy\":1, \"URTI\":2, \"Bronchiectasis\":3, \"Pneumonia\":4, \"Bronchiolitis\":5, \"Asthma\":6, \"LRTI\":7}\n",
    "\n",
    "    count = 0\n",
    "    for f in diagnosis_data():\n",
    "        #print(count)\n",
    "        labels.append(to_hot_one[f.diagnosis]) \n",
    "        images.append(audio_features(f.image_path))\n",
    "        #count+=1\n",
    "\n",
    "    return np.array(labels), np.array(images)"
   ]
  },
  {
   "cell_type": "code",
   "execution_count": 11,
   "metadata": {},
   "outputs": [],
   "source": [
    "from sklearn.model_selection import train_test_split\n",
    "\n",
    "def preprocessing(labels, images):    \n",
    "\n",
    "  # Remove Asthma and LRTI\n",
    "    images = np.delete(images, np.where((labels == 7) | (labels == 6))[0], axis=0) \n",
    "    labels = np.delete(labels, np.where((labels == 7) | (labels == 6))[0], axis=0)      \n",
    "\n",
    "  # Split data\n",
    "    X_train, X_test, y_train, y_test = train_test_split(images, labels, test_size=0.2, random_state=10)\n",
    "\n",
    "  # Hot one encode the labels\n",
    "    y_train = to_categorical(y_train)\n",
    "    y_test = to_categorical(y_test)  \n",
    "\n",
    "  # Format new data\n",
    "    y_train = np.reshape(y_train, (y_train.shape[0], 6))\n",
    "    X_train = np.reshape(X_train, (X_train.shape[0], X_train.shape[1], 1))\n",
    "    y_test = np.reshape(y_test, (y_test.shape[0], 6))\n",
    "    X_test = np.reshape(X_test, (X_test.shape[0], X_train.shape[1],  1))\n",
    "\n",
    "    return X_train, X_test, y_train, y_test"
   ]
  },
  {
   "cell_type": "code",
   "execution_count": 12,
   "metadata": {},
   "outputs": [
    {
     "name": "stderr",
     "output_type": "stream",
     "text": [
      "/opt/conda/lib/python3.7/site-packages/librosa/core/pitch.py:146: UserWarning: Trying to estimate tuning from empty frequency set.\n",
      "  warnings.warn('Trying to estimate tuning from empty frequency set.')\n",
      "/opt/conda/lib/python3.7/site-packages/librosa/core/pitch.py:146: UserWarning: Trying to estimate tuning from empty frequency set.\n",
      "  warnings.warn('Trying to estimate tuning from empty frequency set.')\n"
     ]
    }
   ],
   "source": [
    "from os import listdir\n",
    "from os.path import isfile, join\n",
    "from tensorflow.keras.utils import plot_model,to_categorical\n",
    "\n",
    "labels, images = data_points()\n",
    "X_train, X_test, y_train, y_test = preprocessing(labels, images)"
   ]
  },
  {
   "cell_type": "markdown",
   "execution_count": null,
   "metadata": {},
   "source": [
    "# CNN model"
   ]
  },
  {
   "cell_type": "code",
   "execution_count": 13,
   "metadata": {},
   "outputs": [
    {
     "name": "stdout",
     "output_type": "stream",
     "text": [
      "Epoch 1/70\n",
      "4/4 [==============================] - 0s 101ms/step - loss: 7.1384 - accuracy: 0.6385 - val_loss: 2.2343 - val_accuracy: 0.8967\n",
      "Epoch 2/70\n",
      "4/4 [==============================] - 0s 16ms/step - loss: 3.2345 - accuracy: 0.7503 - val_loss: 1.6800 - val_accuracy: 0.5326\n",
      "Epoch 3/70\n",
      "4/4 [==============================] - 0s 16ms/step - loss: 1.7779 - accuracy: 0.6617 - val_loss: 0.6495 - val_accuracy: 0.8152\n",
      "Epoch 4/70\n",
      "4/4 [==============================] - 0s 16ms/step - loss: 1.0931 - accuracy: 0.8336 - val_loss: 0.4814 - val_accuracy: 0.8859\n",
      "Epoch 5/70\n",
      "4/4 [==============================] - 0s 19ms/step - loss: 0.7668 - accuracy: 0.8363 - val_loss: 0.4171 - val_accuracy: 0.8967\n",
      "Epoch 6/70\n",
      "4/4 [==============================] - 0s 18ms/step - loss: 0.7027 - accuracy: 0.8568 - val_loss: 0.4057 - val_accuracy: 0.8967\n",
      "Epoch 7/70\n",
      "4/4 [==============================] - 0s 16ms/step - loss: 0.6333 - accuracy: 0.8568 - val_loss: 0.4066 - val_accuracy: 0.8967\n",
      "Epoch 8/70\n",
      "4/4 [==============================] - 0s 16ms/step - loss: 0.5374 - accuracy: 0.8568 - val_loss: 0.4554 - val_accuracy: 0.8696\n",
      "Epoch 9/70\n",
      "4/4 [==============================] - 0s 17ms/step - loss: 0.5263 - accuracy: 0.8472 - val_loss: 0.3689 - val_accuracy: 0.8967\n",
      "Epoch 10/70\n",
      "4/4 [==============================] - 0s 16ms/step - loss: 0.4961 - accuracy: 0.8568 - val_loss: 0.3670 - val_accuracy: 0.8967\n",
      "Epoch 11/70\n",
      "4/4 [==============================] - 0s 15ms/step - loss: 0.4747 - accuracy: 0.8581 - val_loss: 0.3619 - val_accuracy: 0.8967\n",
      "Epoch 12/70\n",
      "4/4 [==============================] - 0s 16ms/step - loss: 0.4390 - accuracy: 0.8568 - val_loss: 0.3376 - val_accuracy: 0.8967\n",
      "Epoch 13/70\n",
      "4/4 [==============================] - 0s 16ms/step - loss: 0.4553 - accuracy: 0.8595 - val_loss: 0.3664 - val_accuracy: 0.8750\n",
      "Epoch 14/70\n",
      "4/4 [==============================] - 0s 16ms/step - loss: 0.4311 - accuracy: 0.8486 - val_loss: 0.3165 - val_accuracy: 0.8967\n",
      "Epoch 15/70\n",
      "4/4 [==============================] - 0s 16ms/step - loss: 0.4579 - accuracy: 0.8554 - val_loss: 0.3160 - val_accuracy: 0.8859\n",
      "Epoch 16/70\n",
      "4/4 [==============================] - 0s 16ms/step - loss: 0.4192 - accuracy: 0.8608 - val_loss: 0.3369 - val_accuracy: 0.8750\n",
      "Epoch 17/70\n",
      "4/4 [==============================] - 0s 16ms/step - loss: 0.4123 - accuracy: 0.8472 - val_loss: 0.3017 - val_accuracy: 0.8859\n",
      "Epoch 18/70\n",
      "4/4 [==============================] - 0s 16ms/step - loss: 0.3792 - accuracy: 0.8595 - val_loss: 0.2863 - val_accuracy: 0.8913\n",
      "Epoch 19/70\n",
      "4/4 [==============================] - 0s 17ms/step - loss: 0.3649 - accuracy: 0.8595 - val_loss: 0.2757 - val_accuracy: 0.8859\n",
      "Epoch 20/70\n",
      "4/4 [==============================] - 0s 16ms/step - loss: 0.3593 - accuracy: 0.8608 - val_loss: 0.2824 - val_accuracy: 0.8913\n",
      "Epoch 21/70\n",
      "4/4 [==============================] - 0s 15ms/step - loss: 0.3380 - accuracy: 0.8827 - val_loss: 0.2527 - val_accuracy: 0.8967\n",
      "Epoch 22/70\n",
      "4/4 [==============================] - 0s 16ms/step - loss: 0.3366 - accuracy: 0.8731 - val_loss: 0.2484 - val_accuracy: 0.9130\n",
      "Epoch 23/70\n",
      "4/4 [==============================] - 0s 16ms/step - loss: 0.3343 - accuracy: 0.8772 - val_loss: 0.2422 - val_accuracy: 0.9185\n",
      "Epoch 24/70\n",
      "4/4 [==============================] - 0s 15ms/step - loss: 0.3227 - accuracy: 0.8854 - val_loss: 0.2451 - val_accuracy: 0.9130\n",
      "Epoch 25/70\n",
      "4/4 [==============================] - 0s 16ms/step - loss: 0.3294 - accuracy: 0.8677 - val_loss: 0.2267 - val_accuracy: 0.9239\n",
      "Epoch 26/70\n",
      "4/4 [==============================] - 0s 16ms/step - loss: 0.3015 - accuracy: 0.8854 - val_loss: 0.2318 - val_accuracy: 0.9348\n",
      "Epoch 27/70\n",
      "4/4 [==============================] - 0s 16ms/step - loss: 0.2862 - accuracy: 0.8909 - val_loss: 0.2173 - val_accuracy: 0.9185\n",
      "Epoch 28/70\n",
      "4/4 [==============================] - 0s 17ms/step - loss: 0.2779 - accuracy: 0.8881 - val_loss: 0.2195 - val_accuracy: 0.9130\n",
      "Epoch 29/70\n",
      "4/4 [==============================] - 0s 16ms/step - loss: 0.2707 - accuracy: 0.8922 - val_loss: 0.2145 - val_accuracy: 0.9076\n",
      "Epoch 30/70\n",
      "4/4 [==============================] - 0s 15ms/step - loss: 0.2636 - accuracy: 0.8936 - val_loss: 0.2121 - val_accuracy: 0.9239\n",
      "Epoch 31/70\n",
      "4/4 [==============================] - 0s 16ms/step - loss: 0.2525 - accuracy: 0.9072 - val_loss: 0.1878 - val_accuracy: 0.9185\n",
      "Epoch 32/70\n",
      "4/4 [==============================] - 0s 16ms/step - loss: 0.2391 - accuracy: 0.9086 - val_loss: 0.2109 - val_accuracy: 0.9022\n",
      "Epoch 33/70\n",
      "4/4 [==============================] - 0s 16ms/step - loss: 0.2388 - accuracy: 0.9059 - val_loss: 0.1993 - val_accuracy: 0.9076\n",
      "Epoch 34/70\n",
      "4/4 [==============================] - 0s 16ms/step - loss: 0.2266 - accuracy: 0.9045 - val_loss: 0.2062 - val_accuracy: 0.9185\n",
      "Epoch 35/70\n",
      "4/4 [==============================] - 0s 16ms/step - loss: 0.2436 - accuracy: 0.9045 - val_loss: 0.2020 - val_accuracy: 0.9076\n",
      "Epoch 36/70\n",
      "4/4 [==============================] - 0s 16ms/step - loss: 0.2332 - accuracy: 0.9004 - val_loss: 0.1911 - val_accuracy: 0.9239\n",
      "Epoch 37/70\n",
      "4/4 [==============================] - 0s 16ms/step - loss: 0.2145 - accuracy: 0.9209 - val_loss: 0.1828 - val_accuracy: 0.9185\n",
      "Epoch 38/70\n",
      "4/4 [==============================] - 0s 18ms/step - loss: 0.2237 - accuracy: 0.9168 - val_loss: 0.1918 - val_accuracy: 0.9130\n",
      "Epoch 39/70\n",
      "4/4 [==============================] - 0s 16ms/step - loss: 0.2124 - accuracy: 0.9141 - val_loss: 0.1860 - val_accuracy: 0.9293\n",
      "Epoch 40/70\n",
      "4/4 [==============================] - 0s 15ms/step - loss: 0.2122 - accuracy: 0.9222 - val_loss: 0.1917 - val_accuracy: 0.9293\n",
      "Epoch 41/70\n",
      "4/4 [==============================] - 0s 16ms/step - loss: 0.1875 - accuracy: 0.9250 - val_loss: 0.1764 - val_accuracy: 0.9293\n",
      "Epoch 42/70\n",
      "4/4 [==============================] - 0s 16ms/step - loss: 0.1956 - accuracy: 0.9195 - val_loss: 0.1832 - val_accuracy: 0.9239\n",
      "Epoch 43/70\n",
      "4/4 [==============================] - 0s 16ms/step - loss: 0.1911 - accuracy: 0.9304 - val_loss: 0.1812 - val_accuracy: 0.9348\n",
      "Epoch 44/70\n",
      "4/4 [==============================] - 0s 16ms/step - loss: 0.1766 - accuracy: 0.9359 - val_loss: 0.1770 - val_accuracy: 0.9293\n",
      "Epoch 45/70\n",
      "4/4 [==============================] - 0s 16ms/step - loss: 0.1761 - accuracy: 0.9222 - val_loss: 0.1816 - val_accuracy: 0.9293\n",
      "Epoch 46/70\n",
      "4/4 [==============================] - 0s 16ms/step - loss: 0.1704 - accuracy: 0.9318 - val_loss: 0.1980 - val_accuracy: 0.9130\n",
      "Epoch 47/70\n",
      "4/4 [==============================] - 0s 17ms/step - loss: 0.1769 - accuracy: 0.9263 - val_loss: 0.1888 - val_accuracy: 0.9185\n",
      "Epoch 48/70\n",
      "4/4 [==============================] - 0s 16ms/step - loss: 0.1692 - accuracy: 0.9345 - val_loss: 0.1841 - val_accuracy: 0.9239\n",
      "Epoch 49/70\n",
      "4/4 [==============================] - 0s 15ms/step - loss: 0.1608 - accuracy: 0.9413 - val_loss: 0.1779 - val_accuracy: 0.9402\n",
      "Epoch 50/70\n",
      "4/4 [==============================] - 0s 16ms/step - loss: 0.1652 - accuracy: 0.9386 - val_loss: 0.1797 - val_accuracy: 0.9348\n",
      "Epoch 51/70\n",
      "4/4 [==============================] - 0s 16ms/step - loss: 0.1678 - accuracy: 0.9454 - val_loss: 0.1682 - val_accuracy: 0.9402\n",
      "Epoch 52/70\n",
      "4/4 [==============================] - 0s 16ms/step - loss: 0.1572 - accuracy: 0.9427 - val_loss: 0.1707 - val_accuracy: 0.9293\n",
      "Epoch 53/70\n",
      "4/4 [==============================] - 0s 15ms/step - loss: 0.1531 - accuracy: 0.9413 - val_loss: 0.1737 - val_accuracy: 0.9348\n",
      "Epoch 54/70\n",
      "4/4 [==============================] - 0s 16ms/step - loss: 0.1582 - accuracy: 0.9359 - val_loss: 0.1908 - val_accuracy: 0.9348\n",
      "Epoch 55/70\n",
      "4/4 [==============================] - 0s 16ms/step - loss: 0.1428 - accuracy: 0.9372 - val_loss: 0.1669 - val_accuracy: 0.9293\n",
      "Epoch 56/70\n",
      "4/4 [==============================] - 0s 18ms/step - loss: 0.1623 - accuracy: 0.9386 - val_loss: 0.1708 - val_accuracy: 0.9293\n",
      "Epoch 57/70\n",
      "4/4 [==============================] - 0s 16ms/step - loss: 0.1454 - accuracy: 0.9386 - val_loss: 0.1924 - val_accuracy: 0.9185\n",
      "Epoch 58/70\n",
      "4/4 [==============================] - 0s 16ms/step - loss: 0.1449 - accuracy: 0.9454 - val_loss: 0.1586 - val_accuracy: 0.9457\n",
      "Epoch 59/70\n",
      "4/4 [==============================] - 0s 16ms/step - loss: 0.1467 - accuracy: 0.9400 - val_loss: 0.1556 - val_accuracy: 0.9457\n",
      "Epoch 60/70\n",
      "4/4 [==============================] - 0s 16ms/step - loss: 0.1355 - accuracy: 0.9372 - val_loss: 0.1881 - val_accuracy: 0.9348\n",
      "Epoch 61/70\n",
      "4/4 [==============================] - 0s 15ms/step - loss: 0.1289 - accuracy: 0.9495 - val_loss: 0.1733 - val_accuracy: 0.9457\n",
      "Epoch 62/70\n",
      "4/4 [==============================] - 0s 16ms/step - loss: 0.1258 - accuracy: 0.9536 - val_loss: 0.1733 - val_accuracy: 0.9402\n",
      "Epoch 63/70\n",
      "4/4 [==============================] - 0s 16ms/step - loss: 0.1257 - accuracy: 0.9563 - val_loss: 0.1864 - val_accuracy: 0.9239\n",
      "Epoch 64/70\n",
      "4/4 [==============================] - 0s 16ms/step - loss: 0.1272 - accuracy: 0.9563 - val_loss: 0.1783 - val_accuracy: 0.9293\n",
      "Epoch 65/70\n",
      "4/4 [==============================] - 0s 16ms/step - loss: 0.1243 - accuracy: 0.9468 - val_loss: 0.1857 - val_accuracy: 0.9293\n",
      "Epoch 66/70\n",
      "4/4 [==============================] - 0s 17ms/step - loss: 0.1188 - accuracy: 0.9577 - val_loss: 0.1702 - val_accuracy: 0.9348\n",
      "Epoch 67/70\n",
      "4/4 [==============================] - 0s 16ms/step - loss: 0.1104 - accuracy: 0.9604 - val_loss: 0.1737 - val_accuracy: 0.9457\n",
      "Epoch 68/70\n",
      "4/4 [==============================] - 0s 16ms/step - loss: 0.1010 - accuracy: 0.9659 - val_loss: 0.1868 - val_accuracy: 0.9239\n",
      "Epoch 69/70\n",
      "4/4 [==============================] - 0s 16ms/step - loss: 0.1056 - accuracy: 0.9550 - val_loss: 0.1720 - val_accuracy: 0.9402\n",
      "Epoch 70/70\n",
      "4/4 [==============================] - 0s 16ms/step - loss: 0.1085 - accuracy: 0.9604 - val_loss: 0.1780 - val_accuracy: 0.9457\n"
     ]
    }
   ],
   "source": [
    "model = Sequential()\n",
    "model.add(Conv1D(64, kernel_size=5, activation='relu', input_shape=(193, 1)))\n",
    "\n",
    "model.add(Conv1D(128, kernel_size=5, activation='relu'))\n",
    "model.add(MaxPooling1D(2)) \n",
    "\n",
    "model.add(Conv1D(256, kernel_size=5, activation='relu'))\n",
    "model.add(MaxPooling1D(2)) \n",
    "\n",
    "model.add(Dropout(0.5))\n",
    "model.add(Flatten())\n",
    "\n",
    "model.add(Dense(512, activation='relu'))   \n",
    "model.add(Dense(6, activation='softmax'))\n",
    "\n",
    "model.compile(loss='categorical_crossentropy', optimizer='adam', metrics=['accuracy'])\n",
    "history = model.fit(X_train, y_train, validation_data=(X_test, y_test), epochs=70, batch_size=200, verbose=1)"
   ]
  },
  {
   "cell_type": "code",
   "execution_count": 14,
   "metadata": {},
   "outputs": [
    {
     "data": {
      "image/png": "[encoded data removed]",
      "text/plain": [
       "<Figure size 720x432 with 1 Axes>"
      ]
     },
     "metadata": {
      "needs_background": "light"
     },
     "output_type": "display_data"
    },
    {
     "data": {
      "image/png": "[encoded data removed]",
      "text/plain": [
       "<Figure size 720x432 with 1 Axes>"
      ]
     },
     "metadata": {
      "needs_background": "light"
     },
     "output_type": "display_data"
    }
   ],
   "source": [
    "def visualize_training(history, lw = 3):\n",
    "    plt.figure(figsize=(10,6))\n",
    "    plt.plot(history.history['accuracy'], label = 'training', marker = '*', linewidth = lw)\n",
    "    plt.plot(history.history['val_accuracy'], label = 'validation', marker = 'o', linewidth = lw)\n",
    "    plt.title('Training Accuracy vs Validation Accuracy')\n",
    "    plt.xlabel('Epochs')\n",
    "    plt.ylabel('Accuracy')\n",
    "    plt.legend(fontsize = 'x-large')\n",
    "    plt.show()\n",
    "\n",
    "    plt.figure(figsize=(10,6))\n",
    "    plt.plot(history.history['loss'], label = 'training', marker = '*', linewidth = lw)\n",
    "    plt.plot(history.history['val_loss'], label = 'validation', marker = 'o', linewidth = lw)\n",
    "    plt.title('Training Loss vs Validation Loss')\n",
    "    plt.xlabel('Epochs')\n",
    "    plt.ylabel('Loss')\n",
    "    plt.legend(fontsize = 'x-large')\n",
    "    plt.show()\n",
    "visualize_training(history)"
   ]
  },
  {
   "cell_type": "markdown",
   "execution_count": null,
   "metadata": {},
   "source": [
    "# Model Confusion Matrix"
   ]
  },
  {
   "cell_type": "code",
   "execution_count": 15,
   "metadata": {},
   "outputs": [
    {
     "name": "stdout",
     "output_type": "stream",
     "text": [
      "                precision    recall  f1-score   support\n",
      "\n",
      "          COPD       0.99      0.98      0.98       165\n",
      "       Healthy       0.67      0.57      0.62         7\n",
      "          URTI       0.50      0.50      0.50         4\n",
      "Bronchiectasis       1.00      0.75      0.86         4\n",
      "     Pneumoina       0.43      1.00      0.60         3\n",
      " Bronchiolitis       0.00      0.00      0.00         1\n",
      "\n",
      "      accuracy                           0.95       184\n",
      "     macro avg       0.60      0.63      0.59       184\n",
      "  weighted avg       0.95      0.95      0.95       184\n",
      "\n"
     ]
    },
    {
     "name": "stderr",
     "output_type": "stream",
     "text": [
      "/opt/conda/lib/python3.7/site-packages/sklearn/metrics/_classification.py:1221: UndefinedMetricWarning: Precision and F-score are ill-defined and being set to 0.0 in labels with no predicted samples. Use `zero_division` parameter to control this behavior.\n",
      "  _warn_prf(average, modifier, msg_start, len(result))\n"
     ]
    },
    {
     "ename": "NameError",
     "evalue": "name 'sn' is not defined",
     "output_type": "error",
     "traceback": [
      "\u001b[0;31m---------------------------------------------------------------------------\u001b[0m",
      "\u001b[0;31mNameError\u001b[0m                                 Traceback (most recent call last)",
      "\u001b[0;32m<ipython-input-15-41ad2823ac17>\u001b[0m in \u001b[0;36m<module>\u001b[0;34m\u001b[0m\n\u001b[1;32m     32\u001b[0m \u001b[0mdf_cm\u001b[0m\u001b[0;34m.\u001b[0m\u001b[0mcolumns\u001b[0m\u001b[0;34m.\u001b[0m\u001b[0mname\u001b[0m \u001b[0;34m=\u001b[0m \u001b[0;34m'Predicted'\u001b[0m\u001b[0;34m\u001b[0m\u001b[0;34m\u001b[0m\u001b[0m\n\u001b[1;32m     33\u001b[0m \u001b[0mfig\u001b[0m\u001b[0;34m,\u001b[0m \u001b[0max\u001b[0m \u001b[0;34m=\u001b[0m \u001b[0mplt\u001b[0m\u001b[0;34m.\u001b[0m\u001b[0msubplots\u001b[0m\u001b[0;34m(\u001b[0m\u001b[0mfigsize\u001b[0m\u001b[0;34m=\u001b[0m\u001b[0;34m(\u001b[0m\u001b[0;36m10\u001b[0m\u001b[0;34m,\u001b[0m\u001b[0;36m7\u001b[0m\u001b[0;34m)\u001b[0m\u001b[0;34m)\u001b[0m\u001b[0;34m\u001b[0m\u001b[0;34m\u001b[0m\u001b[0m\n\u001b[0;32m---> 34\u001b[0;31m \u001b[0msn\u001b[0m\u001b[0;34m.\u001b[0m\u001b[0mheatmap\u001b[0m\u001b[0;34m(\u001b[0m\u001b[0mdf_cm\u001b[0m\u001b[0;34m,\u001b[0m \u001b[0mannot\u001b[0m\u001b[0;34m=\u001b[0m\u001b[0mannot\u001b[0m\u001b[0;34m,\u001b[0m \u001b[0mfmt\u001b[0m\u001b[0;34m=\u001b[0m\u001b[0;34m''\u001b[0m\u001b[0;34m)\u001b[0m\u001b[0;34m\u001b[0m\u001b[0;34m\u001b[0m\u001b[0m\n\u001b[0m",
      "\u001b[0;31mNameError\u001b[0m: name 'sn' is not defined"
     ]
    },
    {
     "data": {
      "image/png": "[encoded data removed]",
      "text/plain": [
       "<Figure size 720x504 with 1 Axes>"
      ]
     },
     "metadata": {
      "needs_background": "light"
     },
     "output_type": "display_data"
    }
   ],
   "source": [
    "from sklearn.metrics import roc_auc_score, classification_report, confusion_matrix\n",
    "matrix_index = [\"COPD\", \"Healthy\", \"URTI\", \"Bronchiectasis\", \"Pneumoina\", \"Bronchiolitis\"]\n",
    "\n",
    "preds = model.predict(X_test)\n",
    "classpreds = np.argmax(preds, axis=1) # predicted classes \n",
    "y_testclass = np.argmax(y_test, axis=1) # true classes\n",
    "\n",
    "cm = confusion_matrix(y_testclass, classpreds)\n",
    "print(classification_report(y_testclass, classpreds, target_names=matrix_index))\n",
    "\n",
    "# Get percentage value for each element of the matrix\n",
    "cm_sum = np.sum(cm, axis=1, keepdims=True)\n",
    "cm_perc = cm / cm_sum.astype(float) * 100\n",
    "annot = np.empty_like(cm).astype(str)\n",
    "nrows, ncols = cm.shape\n",
    "for i in range(nrows):\n",
    "    for j in range(ncols):\n",
    "        c = cm[i, j]\n",
    "        p = cm_perc[i, j]\n",
    "        if i == j:\n",
    "            s = cm_sum[i]\n",
    "            annot[i, j] = '%.1f%%\\n%d/%d' % (p, c, s)\n",
    "        elif c == 0:\n",
    "            annot[i, j] = ''\n",
    "        else:\n",
    "            annot[i, j] = '%.1f%%\\n%d' % (p, c)\n",
    "\n",
    "\n",
    "# Display confusion matrix \n",
    "df_cm = pd.DataFrame(cm, index = matrix_index, columns = matrix_index)\n",
    "df_cm.index.name = 'Actual'\n",
    "df_cm.columns.name = 'Predicted'\n",
    "fig, ax = plt.subplots(figsize=(10,7))\n",
    "sn.heatmap(df_cm, annot=annot, fmt='')"
   ]
  },
  {
   "cell_type": "code",
   "execution_count": 16,
   "metadata": {},
   "outputs": [
    {
     "ename": "ValueError",
     "evalue": "multi_class must be in ('ovo', 'ovr')",
     "output_type": "error",
     "traceback": [
      "\u001b[0;31m---------------------------------------------------------------------------\u001b[0m",
      "\u001b[0;31mValueError\u001b[0m                                Traceback (most recent call last)",
      "\u001b[0;32m<ipython-input-16-4596b4a4c50f>\u001b[0m in \u001b[0;36m<module>\u001b[0;34m\u001b[0m\n\u001b[0;32m----> 1\u001b[0;31m \u001b[0mrac\u001b[0m \u001b[0;34m=\u001b[0m \u001b[0mroc_auc_score\u001b[0m\u001b[0;34m(\u001b[0m\u001b[0my_testclass\u001b[0m\u001b[0;34m,\u001b[0m \u001b[0mclasspreds\u001b[0m\u001b[0;34m)\u001b[0m\u001b[0;34m\u001b[0m\u001b[0;34m\u001b[0m\u001b[0m\n\u001b[0m\u001b[1;32m      2\u001b[0m \u001b[0mprint\u001b[0m\u001b[0;34m(\u001b[0m\u001b[0;34m'The ROC-AUC score obtained : {}'\u001b[0m\u001b[0;34m.\u001b[0m\u001b[0mformat\u001b[0m\u001b[0;34m(\u001b[0m\u001b[0mrac\u001b[0m\u001b[0;34m)\u001b[0m\u001b[0;34m)\u001b[0m\u001b[0;34m\u001b[0m\u001b[0;34m\u001b[0m\u001b[0m\n",
      "\u001b[0;32m/opt/conda/lib/python3.7/site-packages/sklearn/utils/validation.py\u001b[0m in \u001b[0;36minner_f\u001b[0;34m(*args, **kwargs)\u001b[0m\n\u001b[1;32m     71\u001b[0m                           FutureWarning)\n\u001b[1;32m     72\u001b[0m         \u001b[0mkwargs\u001b[0m\u001b[0;34m.\u001b[0m\u001b[0mupdate\u001b[0m\u001b[0;34m(\u001b[0m\u001b[0;34m{\u001b[0m\u001b[0mk\u001b[0m\u001b[0;34m:\u001b[0m \u001b[0marg\u001b[0m \u001b[0;32mfor\u001b[0m \u001b[0mk\u001b[0m\u001b[0;34m,\u001b[0m \u001b[0marg\u001b[0m \u001b[0;32min\u001b[0m \u001b[0mzip\u001b[0m\u001b[0;34m(\u001b[0m\u001b[0msig\u001b[0m\u001b[0;34m.\u001b[0m\u001b[0mparameters\u001b[0m\u001b[0;34m,\u001b[0m \u001b[0margs\u001b[0m\u001b[0;34m)\u001b[0m\u001b[0;34m}\u001b[0m\u001b[0;34m)\u001b[0m\u001b[0;34m\u001b[0m\u001b[0;34m\u001b[0m\u001b[0m\n\u001b[0;32m---> 73\u001b[0;31m         \u001b[0;32mreturn\u001b[0m \u001b[0mf\u001b[0m\u001b[0;34m(\u001b[0m\u001b[0;34m**\u001b[0m\u001b[0mkwargs\u001b[0m\u001b[0;34m)\u001b[0m\u001b[0;34m\u001b[0m\u001b[0;34m\u001b[0m\u001b[0m\n\u001b[0m\u001b[1;32m     74\u001b[0m     \u001b[0;32mreturn\u001b[0m \u001b[0minner_f\u001b[0m\u001b[0;34m\u001b[0m\u001b[0;34m\u001b[0m\u001b[0m\n\u001b[1;32m     75\u001b[0m \u001b[0;34m\u001b[0m\u001b[0m\n",
      "\u001b[0;32m/opt/conda/lib/python3.7/site-packages/sklearn/metrics/_ranking.py\u001b[0m in \u001b[0;36mroc_auc_score\u001b[0;34m(y_true, y_score, average, sample_weight, max_fpr, multi_class, labels)\u001b[0m\n\u001b[1;32m    382\u001b[0m                              \"instead\".format(max_fpr))\n\u001b[1;32m    383\u001b[0m         \u001b[0;32mif\u001b[0m \u001b[0mmulti_class\u001b[0m \u001b[0;34m==\u001b[0m \u001b[0;34m'raise'\u001b[0m\u001b[0;34m:\u001b[0m\u001b[0;34m\u001b[0m\u001b[0;34m\u001b[0m\u001b[0m\n\u001b[0;32m--> 384\u001b[0;31m             \u001b[0;32mraise\u001b[0m \u001b[0mValueError\u001b[0m\u001b[0;34m(\u001b[0m\u001b[0;34m\"multi_class must be in ('ovo', 'ovr')\"\u001b[0m\u001b[0;34m)\u001b[0m\u001b[0;34m\u001b[0m\u001b[0;34m\u001b[0m\u001b[0m\n\u001b[0m\u001b[1;32m    385\u001b[0m         return _multiclass_roc_auc_score(y_true, y_score, labels,\n\u001b[1;32m    386\u001b[0m                                          multi_class, average, sample_weight)\n",
      "\u001b[0;31mValueError\u001b[0m: multi_class must be in ('ovo', 'ovr')"
     ]
    }
   ],
   "source": [
    "rac = roc_auc_score(y_testclass, classpreds)\n",
    "print('The ROC-AUC score obtained : {}'.format(rac))"
   ]
  },
  {
   "cell_type": "code",
   "execution_count": null,
   "metadata": {},
   "outputs": [],
   "source": []
  }
 ],
 "metadata": {
  "kernelspec": {
   "display_name": "Python 3",
   "language": "python",
   "name": "python3"
  },
  "language_info": {
   "codemirror_mode": {
    "name": "ipython",
    "version": 3
   },
   "file_extension": ".py",
   "mimetype": "text/x-python",
   "name": "python",
   "nbconvert_exporter": "python",
   "pygments_lexer": "ipython3",
   "version": "3.7.6"
  }
 },
 "nbformat": 4,
 "nbformat_minor": 4
}
